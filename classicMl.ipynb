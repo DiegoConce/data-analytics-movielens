{
 "cells": [
  {
   "cell_type": "code",
   "execution_count": 1,
   "outputs": [],
   "source": [
    "import pandas as pd\n",
    "import numpy as np\n",
    "import seaborn as sns\n",
    "import matplotlib.pyplot as plt\n",
    "from sklearn.linear_model import LinearRegression\n",
    "from sklearn.model_selection import train_test_split\n",
    "from sklearn.metrics import mean_squared_error\n",
    "from sklearn.metrics import r2_score"
   ],
   "metadata": {
    "collapsed": false,
    "ExecuteTime": {
     "end_time": "2023-06-06T12:17:14.288888600Z",
     "start_time": "2023-06-06T12:17:13.996624900Z"
    }
   }
  },
  {
   "cell_type": "markdown",
   "source": [
    "### Classic Machine Learning Techniques\n",
    "Supervised Learning  -- correggi: intercation, iteration"
   ],
   "metadata": {
    "collapsed": false
   }
  },
  {
   "cell_type": "code",
   "execution_count": 2,
   "outputs": [
    {
     "data": {
      "text/plain": "   rating_mean      007  007 (series)  18th century    1920s    1930s   \n0     3.893708  0.02875       0.02375       0.06250  0.07575  0.14075  \\\n1     3.251527  0.04125       0.04050       0.06275  0.08275  0.09100   \n2     3.142028  0.04675       0.05550       0.02925  0.08700  0.04750   \n3     2.853547  0.03425       0.03800       0.04050  0.03100  0.06500   \n4     3.058434  0.04300       0.05325       0.03800  0.04100  0.05400   \n\n     1950s    1960s    1970s   1980s  ...  Film-Noir  Horror  IMAX  Musical   \n0  0.14675  0.06350  0.20375  0.2020  ...          0       0     0        0  \\\n1  0.06125  0.06925  0.09600  0.0765  ...          0       0     0        0   \n2  0.04775  0.04600  0.14275  0.0285  ...          0       0     0        0   \n3  0.03575  0.02900  0.08650  0.0320  ...          0       0     0        0   \n4  0.06725  0.02775  0.07650  0.0215  ...          0       0     0        0   \n\n   Mystery  Romance  Sci-Fi  Thriller  War  Western  \n0        0        0       0         0    0        0  \n1        0        0       0         0    0        0  \n2        0        1       0         0    0        0  \n3        0        1       0         0    0        0  \n4        0        0       0         0    0        0  \n\n[5 rows x 1148 columns]",
      "text/html": "<div>\n<style scoped>\n    .dataframe tbody tr th:only-of-type {\n        vertical-align: middle;\n    }\n\n    .dataframe tbody tr th {\n        vertical-align: top;\n    }\n\n    .dataframe thead th {\n        text-align: right;\n    }\n</style>\n<table border=\"1\" class=\"dataframe\">\n  <thead>\n    <tr style=\"text-align: right;\">\n      <th></th>\n      <th>rating_mean</th>\n      <th>007</th>\n      <th>007 (series)</th>\n      <th>18th century</th>\n      <th>1920s</th>\n      <th>1930s</th>\n      <th>1950s</th>\n      <th>1960s</th>\n      <th>1970s</th>\n      <th>1980s</th>\n      <th>...</th>\n      <th>Film-Noir</th>\n      <th>Horror</th>\n      <th>IMAX</th>\n      <th>Musical</th>\n      <th>Mystery</th>\n      <th>Romance</th>\n      <th>Sci-Fi</th>\n      <th>Thriller</th>\n      <th>War</th>\n      <th>Western</th>\n    </tr>\n  </thead>\n  <tbody>\n    <tr>\n      <th>0</th>\n      <td>3.893708</td>\n      <td>0.02875</td>\n      <td>0.02375</td>\n      <td>0.06250</td>\n      <td>0.07575</td>\n      <td>0.14075</td>\n      <td>0.14675</td>\n      <td>0.06350</td>\n      <td>0.20375</td>\n      <td>0.2020</td>\n      <td>...</td>\n      <td>0</td>\n      <td>0</td>\n      <td>0</td>\n      <td>0</td>\n      <td>0</td>\n      <td>0</td>\n      <td>0</td>\n      <td>0</td>\n      <td>0</td>\n      <td>0</td>\n    </tr>\n    <tr>\n      <th>1</th>\n      <td>3.251527</td>\n      <td>0.04125</td>\n      <td>0.04050</td>\n      <td>0.06275</td>\n      <td>0.08275</td>\n      <td>0.09100</td>\n      <td>0.06125</td>\n      <td>0.06925</td>\n      <td>0.09600</td>\n      <td>0.0765</td>\n      <td>...</td>\n      <td>0</td>\n      <td>0</td>\n      <td>0</td>\n      <td>0</td>\n      <td>0</td>\n      <td>0</td>\n      <td>0</td>\n      <td>0</td>\n      <td>0</td>\n      <td>0</td>\n    </tr>\n    <tr>\n      <th>2</th>\n      <td>3.142028</td>\n      <td>0.04675</td>\n      <td>0.05550</td>\n      <td>0.02925</td>\n      <td>0.08700</td>\n      <td>0.04750</td>\n      <td>0.04775</td>\n      <td>0.04600</td>\n      <td>0.14275</td>\n      <td>0.0285</td>\n      <td>...</td>\n      <td>0</td>\n      <td>0</td>\n      <td>0</td>\n      <td>0</td>\n      <td>0</td>\n      <td>1</td>\n      <td>0</td>\n      <td>0</td>\n      <td>0</td>\n      <td>0</td>\n    </tr>\n    <tr>\n      <th>3</th>\n      <td>2.853547</td>\n      <td>0.03425</td>\n      <td>0.03800</td>\n      <td>0.04050</td>\n      <td>0.03100</td>\n      <td>0.06500</td>\n      <td>0.03575</td>\n      <td>0.02900</td>\n      <td>0.08650</td>\n      <td>0.0320</td>\n      <td>...</td>\n      <td>0</td>\n      <td>0</td>\n      <td>0</td>\n      <td>0</td>\n      <td>0</td>\n      <td>1</td>\n      <td>0</td>\n      <td>0</td>\n      <td>0</td>\n      <td>0</td>\n    </tr>\n    <tr>\n      <th>4</th>\n      <td>3.058434</td>\n      <td>0.04300</td>\n      <td>0.05325</td>\n      <td>0.03800</td>\n      <td>0.04100</td>\n      <td>0.05400</td>\n      <td>0.06725</td>\n      <td>0.02775</td>\n      <td>0.07650</td>\n      <td>0.0215</td>\n      <td>...</td>\n      <td>0</td>\n      <td>0</td>\n      <td>0</td>\n      <td>0</td>\n      <td>0</td>\n      <td>0</td>\n      <td>0</td>\n      <td>0</td>\n      <td>0</td>\n      <td>0</td>\n    </tr>\n  </tbody>\n</table>\n<p>5 rows × 1148 columns</p>\n</div>"
     },
     "metadata": {},
     "output_type": "display_data"
    },
    {
     "name": "stdout",
     "output_type": "stream",
     "text": [
      "Number of samples: 13798\n"
     ]
    }
   ],
   "source": [
    "seed = 42\n",
    "np.random.seed(seed)\n",
    "\n",
    "df = pd.read_csv('dataset.csv')\n",
    "display(df.head())\n",
    "print(f'Number of samples: {df.shape[0]}')"
   ],
   "metadata": {
    "collapsed": false,
    "ExecuteTime": {
     "end_time": "2023-06-06T12:17:18.251825300Z",
     "start_time": "2023-06-06T12:17:15.182835400Z"
    }
   }
  },
  {
   "cell_type": "markdown",
   "source": [
    "### Data Preprocessing"
   ],
   "metadata": {
    "collapsed": false
   }
  },
  {
   "cell_type": "code",
   "execution_count": 3,
   "outputs": [
    {
     "name": "stdout",
     "output_type": "stream",
     "text": [
      "Number of training samples: (11038, 1147)\n",
      "Number of testing samples: (2760, 1147)\n"
     ]
    }
   ],
   "source": [
    "X = df.drop('rating_mean', axis=1)\n",
    "y = df['rating_mean']\n",
    "\n",
    "X_train, X_test, y_train, y_test = train_test_split(X, y, test_size=0.2, random_state=seed)\n",
    "\n",
    "print('Number of training samples:', X_train.shape)\n",
    "print('Number of testing samples:', X_test.shape)"
   ],
   "metadata": {
    "collapsed": false,
    "ExecuteTime": {
     "end_time": "2023-06-06T12:17:21.853617Z",
     "start_time": "2023-06-06T12:17:21.747617600Z"
    }
   }
  },
  {
   "cell_type": "markdown",
   "source": [
    "# Models\n",
    "### Linear Regression"
   ],
   "metadata": {
    "collapsed": false
   }
  },
  {
   "cell_type": "code",
   "execution_count": 5,
   "outputs": [
    {
     "name": "stdout",
     "output_type": "stream",
     "text": [
      "Linear Regression Results:\n",
      "Mean Square Error: 0.005227212704748565\n",
      "R2 Score: 0.976825573190874\n"
     ]
    }
   ],
   "source": [
    "regressor = LinearRegression()\n",
    "regressor.fit(X_train, y_train)\n",
    "\n",
    "y_pred = regressor.predict(X_test)\n",
    "\n",
    "mse = mean_squared_error(y_test, y_pred)\n",
    "r2 = r2_score(y_test, y_pred)\n",
    "print('Linear Regression Results:')\n",
    "print('Mean Square Error:', mse)\n",
    "print('R2 Score:', r2)"
   ],
   "metadata": {
    "collapsed": false,
    "ExecuteTime": {
     "end_time": "2023-06-06T11:02:52.098671Z",
     "start_time": "2023-06-06T11:02:49.892617700Z"
    }
   }
  },
  {
   "cell_type": "markdown",
   "source": [
    "### Logistic Regression\n",
    "Non ha molto senso per questo tipo di problema\n",
    "### Ridge Regression\n"
   ],
   "metadata": {
    "collapsed": false
   }
  },
  {
   "cell_type": "code",
   "execution_count": 6,
   "outputs": [
    {
     "name": "stdout",
     "output_type": "stream",
     "text": [
      "Interaction: 1 - Alpha: 0.001 - MSE: 0.005227112435072849 - R2: 0.976826017728411\n",
      "\n",
      "Interaction: 2 - Alpha: 0.01 - MSE: 0.005226215036545749 - R2: 0.9768299962725528\n",
      "\n",
      "Interaction: 3 - Alpha: 0.1 - MSE: 0.005217704544125444 - R2: 0.976867726855723\n",
      "\n",
      "Interaction: 4 - Alpha: 1 - MSE: 0.005162006315147821 - R2: 0.9771146604709683\n",
      "\n",
      "Interaction: 5 - Alpha: 5 - MSE: 0.005125526729723692 - R2: 0.9772763897768507\n",
      "\n",
      "Interaction: 6 - Alpha: 10 - MSE: 0.005196090902363647 - R2: 0.9769635491968786\n",
      "\n",
      "Interaction: 7 - Alpha: 20 - MSE: 0.005409961044008941 - R2: 0.9760153731374437\n",
      "\n",
      "Ridge Regression Best Results:\n",
      "Alpha: 5\n",
      "Mean Square Error: 0.005125526729723692\n",
      "R2 Score: 0.9772763897768507\n"
     ]
    }
   ],
   "source": [
    "from sklearn.linear_model import Ridge\n",
    "\n",
    "alphas = [0.001, 0.01, 0.1, 1, 5, 10, 20]\n",
    "\n",
    "best_mse = None\n",
    "best_r2 = None\n",
    "best_alpha = None\n",
    "results = []\n",
    "\n",
    "i = 0\n",
    "for alpha in alphas:\n",
    "    i += 1\n",
    "    ridge_regressor = Ridge(alpha=alpha)\n",
    "    ridge_regressor.fit(X_train, y_train)\n",
    "    y_pred = ridge_regressor.predict(X_test)\n",
    "    mse = mean_squared_error(y_test, y_pred)\n",
    "    r2 = r2_score(y_test, y_pred)\n",
    "\n",
    "    if best_mse is None or mse < best_mse:\n",
    "        best_mse = mse\n",
    "        best_r2 = r2\n",
    "        best_alpha = alpha\n",
    "\n",
    "    results.append((i, alpha, mse, r2))\n",
    "\n",
    "    print('Iteration: {} - Alpha: {} - MSE: {} - R2: {}\\n'.format(i, alpha, mse, r2))\n",
    "\n",
    "print('Ridge Regression Best Results:')\n",
    "print('Alpha:', best_alpha)\n",
    "print('Mean Square Error:', best_mse)\n",
    "print('R2 Score:', best_r2)\n"
   ],
   "metadata": {
    "collapsed": false,
    "ExecuteTime": {
     "end_time": "2023-06-06T10:52:32.980781600Z",
     "start_time": "2023-06-06T10:52:30.872986600Z"
    }
   }
  },
  {
   "cell_type": "code",
   "execution_count": 7,
   "outputs": [
    {
     "data": {
      "text/plain": "<Figure size 640x480 with 1 Axes>",
      "image/png": "[encoded data removed]"
     },
     "metadata": {},
     "output_type": "display_data"
    },
    {
     "data": {
      "text/plain": "<Figure size 640x480 with 1 Axes>",
      "image/png": "[encoded data removed]"
     },
     "metadata": {},
     "output_type": "display_data"
    }
   ],
   "source": [
    "results = pd.DataFrame(results, columns=['Iteration', 'Alpha', 'MSE', 'R2'])\n",
    "\n",
    "sns.lineplot(x='Alpha', y='MSE', data=results)\n",
    "plt.xlabel('Alpha')\n",
    "plt.ylabel('MSE')\n",
    "plt.title('Ridge Regression: MSE vs Alpha')\n",
    "plt.scatter(best_alpha, best_mse, color='red', marker='o', s=100, zorder=3)\n",
    "plt.show()\n",
    "\n",
    "sns.lineplot(x='Alpha', y='R2', data=results)\n",
    "plt.xlabel('Alpha')\n",
    "plt.ylabel('R2')\n",
    "plt.title('Ridge Regression: R2 vs Alpha')\n",
    "plt.scatter(best_alpha, best_r2, color='red', marker='o', s=100, zorder=3)\n",
    "plt.show()"
   ],
   "metadata": {
    "collapsed": false,
    "ExecuteTime": {
     "end_time": "2023-06-06T10:52:33.515914400Z",
     "start_time": "2023-06-06T10:52:32.980781600Z"
    }
   }
  },
  {
   "cell_type": "markdown",
   "source": [
    "### Lasso Regression"
   ],
   "metadata": {
    "collapsed": false
   }
  },
  {
   "cell_type": "code",
   "execution_count": null,
   "outputs": [
    {
     "name": "stdout",
     "output_type": "stream",
     "text": [
      "Interaction: 1 - Alpha: 0.01 - MSE: 0.03089607185975027 - R2: 0.8630247521106529\n",
      "\n",
      "Interaction: 2 - Alpha: 0.001 - MSE: 0.009819687205531386 - R2: 0.956465207121499\n",
      "\n"
     ]
    },
    {
     "name": "stderr",
     "output_type": "stream",
     "text": [
      "D:\\Workspace\\data-analytics-movielens\\venv\\Lib\\site-packages\\sklearn\\linear_model\\_coordinate_descent.py:631: ConvergenceWarning: Objective did not converge. You might want to increase the number of iterations, check the scale of the features or consider increasing regularisation. Duality gap: 7.805e+00, tolerance: 2.608e-01\n",
      "  model = cd_fast.enet_coordinate_descent(\n"
     ]
    },
    {
     "name": "stdout",
     "output_type": "stream",
     "text": [
      "Interaction: 3 - Alpha: 0.0001 - MSE: 0.005411520205658336 - R2: 0.9760084607197618\n",
      "\n"
     ]
    },
    {
     "name": "stderr",
     "output_type": "stream",
     "text": [
      "D:\\Workspace\\data-analytics-movielens\\venv\\Lib\\site-packages\\sklearn\\linear_model\\_coordinate_descent.py:631: ConvergenceWarning: Objective did not converge. You might want to increase the number of iterations, check the scale of the features or consider increasing regularisation. Duality gap: 2.259e+01, tolerance: 2.608e-01\n",
      "  model = cd_fast.enet_coordinate_descent(\n"
     ]
    },
    {
     "name": "stdout",
     "output_type": "stream",
     "text": [
      "Interaction: 4 - Alpha: 1e-05 - MSE: 0.005189538688613613 - R2: 0.9769925979091779\n",
      "\n"
     ]
    }
   ],
   "source": [
    "from sklearn.linear_model import Lasso\n",
    "\n",
    "alphas = [1e-2, 1e-3, 1e-4, 1e-5, 1e-6]\n",
    "\n",
    "best_mse = None\n",
    "best_r2 = None\n",
    "best_alpha = None\n",
    "\n",
    "results = []\n",
    "\n",
    "i = 0\n",
    "for alpha in alphas:\n",
    "    i += 1\n",
    "    lasso_regressor = Lasso(alpha=alpha)\n",
    "    lasso_regressor.fit(X_train, y_train)\n",
    "    y_pred = lasso_regressor.predict(X_test)\n",
    "    mse = mean_squared_error(y_test, y_pred)\n",
    "    r2 = r2_score(y_test, y_pred)\n",
    "\n",
    "    if best_mse is None or mse < best_mse:\n",
    "        best_mse = mse\n",
    "        best_r2 = r2\n",
    "        best_alpha = alpha\n",
    "\n",
    "    results.append((i, alpha, mse, r2))\n",
    "\n",
    "    print('Iteration: {} - Alpha: {} - MSE: {} - R2: {}\\n'.format(i, alpha, mse, r2))\n",
    "\n",
    "print('Lasso Regression Best Results:')\n",
    "print('Alpha:', best_alpha)\n",
    "print('Mean Square Error:', best_mse)\n",
    "print('R2 Score:', best_r2)\n"
   ],
   "metadata": {
    "collapsed": false,
    "is_executing": true,
    "ExecuteTime": {
     "start_time": "2023-06-06T10:52:33.515914400Z"
    }
   }
  },
  {
   "cell_type": "code",
   "execution_count": null,
   "outputs": [],
   "source": [
    "results = pd.DataFrame(results, columns=['Iteration', 'Alpha', 'MSE', 'R2'])\n",
    "\n",
    "sns.lineplot(x='Alpha', y='MSE', data=results)\n",
    "plt.xlabel('Alpha')\n",
    "plt.ylabel('MSE')\n",
    "plt.title('Lasso Regression: MSE vs Alpha')\n",
    "plt.scatter(best_alpha, best_mse, color='red', marker='o', s=100, zorder=3)\n",
    "plt.show()\n",
    "\n",
    "sns.lineplot(x='Alpha', y='R2', data=results)\n",
    "plt.xlabel('Alpha')\n",
    "plt.ylabel('R2')\n",
    "plt.title('Lasso Regression: R2 vs Alpha')\n",
    "plt.scatter(best_alpha, best_r2, color='red', marker='o', s=100, zorder=3)\n",
    "plt.show()"
   ],
   "metadata": {
    "collapsed": false,
    "is_executing": true
   }
  },
  {
   "cell_type": "markdown",
   "source": [
    "### Elastic Net Regression"
   ],
   "metadata": {
    "collapsed": false
   }
  },
  {
   "cell_type": "code",
   "execution_count": null,
   "outputs": [
    {
     "name": "stdout",
     "output_type": "stream",
     "text": [
      "Interaction: 1 - Alpha: 0.01 - MSE: 0.020808699901370298 - R2: 0.9077463037960364\n",
      "\n",
      "Interaction: 2 - Alpha: 0.001 - MSE: 0.007811683477993957 - R2: 0.9653675300313731\n",
      "\n"
     ]
    },
    {
     "name": "stderr",
     "output_type": "stream",
     "text": [
      "D:\\Workspace\\data-analytics-movielens\\venv\\Lib\\site-packages\\sklearn\\linear_model\\_coordinate_descent.py:631: ConvergenceWarning: Objective did not converge. You might want to increase the number of iterations, check the scale of the features or consider increasing regularisation. Duality gap: 2.210e+01, tolerance: 2.608e-01\n",
      "  model = cd_fast.enet_coordinate_descent(\n"
     ]
    },
    {
     "name": "stdout",
     "output_type": "stream",
     "text": [
      "Interaction: 3 - Alpha: 0.0001 - MSE: 0.00514538096120985 - R2: 0.9771883676395442\n",
      "\n"
     ]
    }
   ],
   "source": [
    "from sklearn.linear_model import ElasticNet\n",
    "\n",
    "alphas = [1e-2, 1e-3, 1e-4, 1e-5, 1e-6]\n",
    "\n",
    "best_mse = None\n",
    "best_r2 = None\n",
    "best_alpha = None\n",
    "\n",
    "results = []\n",
    "\n",
    "i = 0\n",
    "for alpha in alphas:\n",
    "    i += 1\n",
    "    elastic_net_regressor = ElasticNet(alpha=alpha)\n",
    "    elastic_net_regressor.fit(X_train, y_train)\n",
    "    y_pred = elastic_net_regressor.predict(X_test)\n",
    "    mse = mean_squared_error(y_test, y_pred)\n",
    "    r2 = r2_score(y_test, y_pred)\n",
    "\n",
    "    if best_mse is None or mse < best_mse:\n",
    "        best_mse = mse\n",
    "        best_r2 = r2\n",
    "        best_alpha = alpha\n",
    "\n",
    "    results.append((i, alpha, mse, r2))\n",
    "\n",
    "    print('Iteration: {} - Alpha: {} - MSE: {} - R2: {}\\n'.format(i, alpha, mse, r2))\n",
    "\n",
    "print('Elastic Net Regression Best Results:')\n",
    "print('Alpha:', best_alpha)\n",
    "print('Mean Square Error:', best_mse)\n",
    "print('R2 Score:', best_r2)"
   ],
   "metadata": {
    "collapsed": false,
    "is_executing": true,
    "ExecuteTime": {
     "start_time": "2023-06-06T11:02:59.477649500Z"
    }
   }
  },
  {
   "cell_type": "code",
   "execution_count": null,
   "outputs": [],
   "source": [
    "results = pd.DataFrame(results, columns=['Iteration', 'Alpha', 'MSE', 'R2'])\n",
    "\n",
    "sns.lineplot(x='Alpha', y='MSE', data=results)\n",
    "plt.xlabel('Alpha')\n",
    "plt.ylabel('MSE')\n",
    "plt.title('Elastic Net Regression: MSE vs Alpha')\n",
    "plt.scatter(best_alpha, best_mse, color='red', marker='o', s=100, zorder=3)\n",
    "plt.show()\n",
    "\n",
    "sns.lineplot(x='Alpha', y='R2', data=results)\n",
    "plt.xlabel('Alpha')\n",
    "plt.ylabel('R2')\n",
    "plt.title('Elastic Net Regression: R2 vs Alpha')\n",
    "plt.scatter(best_alpha, best_r2, color='red', marker='o', s=100, zorder=3)\n",
    "plt.show()"
   ],
   "metadata": {
    "collapsed": false
   }
  },
  {
   "cell_type": "markdown",
   "source": [],
   "metadata": {
    "collapsed": false
   }
  },
  {
   "cell_type": "markdown",
   "source": [
    "### Random Forest Regressor"
   ],
   "metadata": {
    "collapsed": false
   }
  },
  {
   "cell_type": "code",
   "execution_count": null,
   "outputs": [],
   "source": [
    "from sklearn.ensemble import RandomForestRegressor\n",
    "\n",
    "rf_regressor = RandomForestRegressor(n_estimators=100, random_state=seed)\n",
    "rf_regressor.fit(X_train, np.ravel(y_train))\n",
    "\n",
    "y_pred = rf_regressor.predict(X_test)\n",
    "\n",
    "mse = mean_squared_error(y_test, y_pred)\n",
    "r2 = r2_score(y_test, y_pred)\n",
    "print('Mean Square Error:', mse)\n",
    "print('R2 Score:', r2)\n",
    "\n",
    "print('Accuracy:', rf_regressor.score(X_test, y_test))\n",
    "rankVar = pd.Series(rf_regressor.feature_importances_, index=X.columns).sort_values(ascending=False)\n",
    "print(rankVar)\n",
    "\n",
    "sns.barplot(x=rankVar[:10], y=rankVar.index[:10])\n",
    "plt.xlabel('Feature Importance Score')\n",
    "plt.ylabel('Features')\n",
    "plt.title(\"Visualizing Top 10 Features\")\n",
    "plt.show()"
   ],
   "metadata": {
    "collapsed": false,
    "is_executing": true
   }
  },
  {
   "cell_type": "markdown",
   "source": [
    "### Gradient Boosting Regressor"
   ],
   "metadata": {
    "collapsed": false
   }
  },
  {
   "cell_type": "code",
   "execution_count": null,
   "outputs": [],
   "source": [
    "from sklearn.ensemble import GradientBoostingRegressor\n",
    "\n",
    "gb_regressor = GradientBoostingRegressor(n_estimators=100, random_state=seed)\n",
    "gb_regressor.fit(X_train, np.ravel(y_train))\n",
    "\n",
    "y_pred = gb_regressor.predict(X_test)\n",
    "\n",
    "mse = mean_squared_error(y_test, y_pred)\n",
    "r2 = r2_score(y_test, y_pred)\n",
    "print('Mean Square Error:', mse)\n",
    "print('R2 Score:', r2)\n",
    "\n",
    "print('Accuracy:', gb_regressor.score(X_test, y_test))\n",
    "\n",
    "rankVar = pd.Series(gb_regressor.feature_importances_, index=X.columns).sort_values(ascending=False)\n",
    "\n",
    "sns.barplot(x=rankVar[:10], y=rankVar.index[:10])\n",
    "plt.xlabel('Feature Importance Score')\n",
    "plt.ylabel('Features')\n",
    "plt.title(\"Visualizing Top 10 Features\")\n",
    "plt.show()"
   ],
   "metadata": {
    "collapsed": false,
    "is_executing": true
   }
  },
  {
   "cell_type": "markdown",
   "source": [
    "### Support Vector Regressor"
   ],
   "metadata": {
    "collapsed": false
   }
  },
  {
   "cell_type": "code",
   "execution_count": 4,
   "outputs": [
    {
     "name": "stdout",
     "output_type": "stream",
     "text": [
      "Interaction: 1 - C: 0.001 - Epsilon: 0.001 - Kernel: linear - MSE: 0.00781528718756544 - R2: 0.9653515532750361\n",
      "\n",
      "Interaction: 2 - C: 0.001 - Epsilon: 0.001 - Kernel: poly - MSE: 0.07344464084408064 - R2: 0.6743890960822185\n",
      "\n",
      "Interaction: 3 - C: 0.001 - Epsilon: 0.001 - Kernel: rbf - MSE: 0.0985468736736527 - R2: 0.5631003672103104\n",
      "\n",
      "Interaction: 4 - C: 0.001 - Epsilon: 0.001 - Kernel: sigmoid - MSE: 0.1367003482992314 - R2: 0.39395000827789173\n",
      "\n"
     ]
    },
    {
     "ename": "InvalidParameterError",
     "evalue": "The 'kernel' parameter of SVR must be a str among {'sigmoid', 'linear', 'precomputed', 'poly', 'rbf'} or a callable. Got 's' instead.",
     "output_type": "error",
     "traceback": [
      "\u001B[1;31m---------------------------------------------------------------------------\u001B[0m",
      "\u001B[1;31mInvalidParameterError\u001B[0m                     Traceback (most recent call last)",
      "Cell \u001B[1;32mIn[4], line 22\u001B[0m\n\u001B[0;32m     20\u001B[0m i \u001B[38;5;241m+\u001B[39m\u001B[38;5;241m=\u001B[39m \u001B[38;5;241m1\u001B[39m\n\u001B[0;32m     21\u001B[0m svr_regressor \u001B[38;5;241m=\u001B[39m SVR(C\u001B[38;5;241m=\u001B[39mc, epsilon\u001B[38;5;241m=\u001B[39mepsilon, kernel\u001B[38;5;241m=\u001B[39mkernel)\n\u001B[1;32m---> 22\u001B[0m \u001B[43msvr_regressor\u001B[49m\u001B[38;5;241;43m.\u001B[39;49m\u001B[43mfit\u001B[49m\u001B[43m(\u001B[49m\u001B[43mX_train\u001B[49m\u001B[43m,\u001B[49m\u001B[43m \u001B[49m\u001B[43mnp\u001B[49m\u001B[38;5;241;43m.\u001B[39;49m\u001B[43mravel\u001B[49m\u001B[43m(\u001B[49m\u001B[43my_train\u001B[49m\u001B[43m)\u001B[49m\u001B[43m)\u001B[49m\n\u001B[0;32m     23\u001B[0m y_pred \u001B[38;5;241m=\u001B[39m svr_regressor\u001B[38;5;241m.\u001B[39mpredict(X_test)\n\u001B[0;32m     24\u001B[0m mse \u001B[38;5;241m=\u001B[39m mean_squared_error(y_test, y_pred)\n",
      "File \u001B[1;32mD:\\Workspace\\data-analytics-movielens\\venv\\Lib\\site-packages\\sklearn\\svm\\_base.py:180\u001B[0m, in \u001B[0;36mBaseLibSVM.fit\u001B[1;34m(self, X, y, sample_weight)\u001B[0m\n\u001B[0;32m    147\u001B[0m \u001B[38;5;28;01mdef\u001B[39;00m \u001B[38;5;21mfit\u001B[39m(\u001B[38;5;28mself\u001B[39m, X, y, sample_weight\u001B[38;5;241m=\u001B[39m\u001B[38;5;28;01mNone\u001B[39;00m):\n\u001B[0;32m    148\u001B[0m \u001B[38;5;250m    \u001B[39m\u001B[38;5;124;03m\"\"\"Fit the SVM model according to the given training data.\u001B[39;00m\n\u001B[0;32m    149\u001B[0m \n\u001B[0;32m    150\u001B[0m \u001B[38;5;124;03m    Parameters\u001B[39;00m\n\u001B[1;32m   (...)\u001B[0m\n\u001B[0;32m    178\u001B[0m \u001B[38;5;124;03m    matrices as input.\u001B[39;00m\n\u001B[0;32m    179\u001B[0m \u001B[38;5;124;03m    \"\"\"\u001B[39;00m\n\u001B[1;32m--> 180\u001B[0m     \u001B[38;5;28;43mself\u001B[39;49m\u001B[38;5;241;43m.\u001B[39;49m\u001B[43m_validate_params\u001B[49m\u001B[43m(\u001B[49m\u001B[43m)\u001B[49m\n\u001B[0;32m    182\u001B[0m     rnd \u001B[38;5;241m=\u001B[39m check_random_state(\u001B[38;5;28mself\u001B[39m\u001B[38;5;241m.\u001B[39mrandom_state)\n\u001B[0;32m    184\u001B[0m     sparse \u001B[38;5;241m=\u001B[39m sp\u001B[38;5;241m.\u001B[39misspmatrix(X)\n",
      "File \u001B[1;32mD:\\Workspace\\data-analytics-movielens\\venv\\Lib\\site-packages\\sklearn\\base.py:600\u001B[0m, in \u001B[0;36mBaseEstimator._validate_params\u001B[1;34m(self)\u001B[0m\n\u001B[0;32m    592\u001B[0m \u001B[38;5;28;01mdef\u001B[39;00m \u001B[38;5;21m_validate_params\u001B[39m(\u001B[38;5;28mself\u001B[39m):\n\u001B[0;32m    593\u001B[0m \u001B[38;5;250m    \u001B[39m\u001B[38;5;124;03m\"\"\"Validate types and values of constructor parameters\u001B[39;00m\n\u001B[0;32m    594\u001B[0m \n\u001B[0;32m    595\u001B[0m \u001B[38;5;124;03m    The expected type and values must be defined in the `_parameter_constraints`\u001B[39;00m\n\u001B[1;32m   (...)\u001B[0m\n\u001B[0;32m    598\u001B[0m \u001B[38;5;124;03m    accepted constraints.\u001B[39;00m\n\u001B[0;32m    599\u001B[0m \u001B[38;5;124;03m    \"\"\"\u001B[39;00m\n\u001B[1;32m--> 600\u001B[0m     \u001B[43mvalidate_parameter_constraints\u001B[49m\u001B[43m(\u001B[49m\n\u001B[0;32m    601\u001B[0m \u001B[43m        \u001B[49m\u001B[38;5;28;43mself\u001B[39;49m\u001B[38;5;241;43m.\u001B[39;49m\u001B[43m_parameter_constraints\u001B[49m\u001B[43m,\u001B[49m\n\u001B[0;32m    602\u001B[0m \u001B[43m        \u001B[49m\u001B[38;5;28;43mself\u001B[39;49m\u001B[38;5;241;43m.\u001B[39;49m\u001B[43mget_params\u001B[49m\u001B[43m(\u001B[49m\u001B[43mdeep\u001B[49m\u001B[38;5;241;43m=\u001B[39;49m\u001B[38;5;28;43;01mFalse\u001B[39;49;00m\u001B[43m)\u001B[49m\u001B[43m,\u001B[49m\n\u001B[0;32m    603\u001B[0m \u001B[43m        \u001B[49m\u001B[43mcaller_name\u001B[49m\u001B[38;5;241;43m=\u001B[39;49m\u001B[38;5;28;43mself\u001B[39;49m\u001B[38;5;241;43m.\u001B[39;49m\u001B[38;5;18;43m__class__\u001B[39;49m\u001B[38;5;241;43m.\u001B[39;49m\u001B[38;5;18;43m__name__\u001B[39;49m\u001B[43m,\u001B[49m\n\u001B[0;32m    604\u001B[0m \u001B[43m    \u001B[49m\u001B[43m)\u001B[49m\n",
      "File \u001B[1;32mD:\\Workspace\\data-analytics-movielens\\venv\\Lib\\site-packages\\sklearn\\utils\\_param_validation.py:97\u001B[0m, in \u001B[0;36mvalidate_parameter_constraints\u001B[1;34m(parameter_constraints, params, caller_name)\u001B[0m\n\u001B[0;32m     91\u001B[0m \u001B[38;5;28;01melse\u001B[39;00m:\n\u001B[0;32m     92\u001B[0m     constraints_str \u001B[38;5;241m=\u001B[39m (\n\u001B[0;32m     93\u001B[0m         \u001B[38;5;124mf\u001B[39m\u001B[38;5;124m\"\u001B[39m\u001B[38;5;132;01m{\u001B[39;00m\u001B[38;5;124m'\u001B[39m\u001B[38;5;124m, \u001B[39m\u001B[38;5;124m'\u001B[39m\u001B[38;5;241m.\u001B[39mjoin([\u001B[38;5;28mstr\u001B[39m(c)\u001B[38;5;250m \u001B[39m\u001B[38;5;28;01mfor\u001B[39;00m\u001B[38;5;250m \u001B[39mc\u001B[38;5;250m \u001B[39m\u001B[38;5;129;01min\u001B[39;00m\u001B[38;5;250m \u001B[39mconstraints[:\u001B[38;5;241m-\u001B[39m\u001B[38;5;241m1\u001B[39m]])\u001B[38;5;132;01m}\u001B[39;00m\u001B[38;5;124m or\u001B[39m\u001B[38;5;124m\"\u001B[39m\n\u001B[0;32m     94\u001B[0m         \u001B[38;5;124mf\u001B[39m\u001B[38;5;124m\"\u001B[39m\u001B[38;5;124m \u001B[39m\u001B[38;5;132;01m{\u001B[39;00mconstraints[\u001B[38;5;241m-\u001B[39m\u001B[38;5;241m1\u001B[39m]\u001B[38;5;132;01m}\u001B[39;00m\u001B[38;5;124m\"\u001B[39m\n\u001B[0;32m     95\u001B[0m     )\n\u001B[1;32m---> 97\u001B[0m \u001B[38;5;28;01mraise\u001B[39;00m InvalidParameterError(\n\u001B[0;32m     98\u001B[0m     \u001B[38;5;124mf\u001B[39m\u001B[38;5;124m\"\u001B[39m\u001B[38;5;124mThe \u001B[39m\u001B[38;5;132;01m{\u001B[39;00mparam_name\u001B[38;5;132;01m!r}\u001B[39;00m\u001B[38;5;124m parameter of \u001B[39m\u001B[38;5;132;01m{\u001B[39;00mcaller_name\u001B[38;5;132;01m}\u001B[39;00m\u001B[38;5;124m must be\u001B[39m\u001B[38;5;124m\"\u001B[39m\n\u001B[0;32m     99\u001B[0m     \u001B[38;5;124mf\u001B[39m\u001B[38;5;124m\"\u001B[39m\u001B[38;5;124m \u001B[39m\u001B[38;5;132;01m{\u001B[39;00mconstraints_str\u001B[38;5;132;01m}\u001B[39;00m\u001B[38;5;124m. Got \u001B[39m\u001B[38;5;132;01m{\u001B[39;00mparam_val\u001B[38;5;132;01m!r}\u001B[39;00m\u001B[38;5;124m instead.\u001B[39m\u001B[38;5;124m\"\u001B[39m\n\u001B[0;32m    100\u001B[0m )\n",
      "\u001B[1;31mInvalidParameterError\u001B[0m: The 'kernel' parameter of SVR must be a str among {'sigmoid', 'linear', 'precomputed', 'poly', 'rbf'} or a callable. Got 's' instead."
     ]
    }
   ],
   "source": [
    "from sklearn.svm import SVR\n",
    "\n",
    "c = [0.001, 0.01, 0.1, 1, 5]\n",
    "epsilon = [0.001, 0.01, 0.1, 1, 5]\n",
    "kernel = ['linear', 'poly', 'rbf', 'sigmoid']\n",
    "\n",
    "best_mse = None\n",
    "best_r2 = None\n",
    "best_c = None\n",
    "best_epsilon = None\n",
    "best_kernel = None\n",
    "\n",
    "results = []\n",
    "\n",
    "i = 0\n",
    "\n",
    "for c in c:\n",
    "    for epsilon in epsilon:\n",
    "        for kernel in kernel:\n",
    "            i += 1\n",
    "            svr_regressor = SVR(C=c, epsilon=epsilon, kernel=kernel)\n",
    "            svr_regressor.fit(X_train, np.ravel(y_train))\n",
    "            y_pred = svr_regressor.predict(X_test)\n",
    "            mse = mean_squared_error(y_test, y_pred)\n",
    "            r2 = r2_score(y_test, y_pred)\n",
    "\n",
    "            if best_mse is None or mse < best_mse:\n",
    "                best_mse = mse\n",
    "                best_r2 = r2\n",
    "                best_c = c\n",
    "                best_epsilon = epsilon\n",
    "                best_kernel = kernel\n",
    "\n",
    "            results.append((i, c, epsilon, kernel, mse, r2))\n",
    "\n",
    "            print('Iteration: {} - C: {} - Epsilon: {} - Kernel: {} - MSE: {} - R2: {}\\n'.format(i, c, epsilon, kernel, mse, r2))\n",
    "\n",
    "print('Support Vector Regression Best Results:')\n",
    "print('C:', best_c)\n",
    "print('Epsilon:', best_epsilon)\n",
    "print('Kernel:', best_kernel)\n",
    "print('Mean Square Error:', best_mse)\n",
    "print('R2 Score:', best_r2)\n"
   ],
   "metadata": {
    "collapsed": false,
    "ExecuteTime": {
     "end_time": "2023-06-06T12:23:04.311497200Z",
     "start_time": "2023-06-06T12:17:26.530734700Z"
    }
   }
  },
  {
   "cell_type": "markdown",
   "source": [
    "### Naive Bayes Classifier (GaussianNB)\n",
    "Non ottimo prende solo valori interi\n",
    "https://www.kaggle.com/code/prashant111/naive-bayes-classifier-in-python"
   ],
   "metadata": {
    "collapsed": false
   }
  },
  {
   "cell_type": "code",
   "execution_count": 42,
   "outputs": [
    {
     "name": "stdout",
     "output_type": "stream",
     "text": [
      "Mean Square Error: 0.5966572479951741\n",
      "R2 Score: -1.6452318864387583\n",
      "Model accuracy score: 0.6199\n",
      "Checking for overfitting:\n",
      "Training set score: 0.6323\n",
      "Test set score: 0.6199\n",
      "False Positives: [164 402 102 381]\n",
      "False Negatives: [  6 243 788  12]\n",
      "True Positives: [  32  427 1189   63]\n",
      "True Negatives: [2558 1688  681 2304]\n"
     ]
    },
    {
     "data": {
      "text/plain": "<Figure size 640x480 with 2 Axes>",
      "image/png": "[encoded data removed]"
     },
     "metadata": {},
     "output_type": "display_data"
    }
   ],
   "source": [
    "from sklearn.naive_bayes import GaussianNB\n",
    "from sklearn.metrics import accuracy_score\n",
    "from sklearn.metrics import confusion_matrix\n",
    "\n",
    "\n",
    "nb_classifier = GaussianNB()\n",
    "nb_classifier.fit(X_train, y_train.astype('int'))\n",
    "\n",
    "y_pred = nb_classifier.predict(X_test)\n",
    "\n",
    "mse = mean_squared_error(y_test, y_pred)\n",
    "r2 = r2_score(y_test, y_pred)\n",
    "print('Mean Square Error:', mse)\n",
    "print('R2 Score:', r2)\n",
    "print('Model accuracy score: {0:0.4f}'. format(accuracy_score(y_test.astype('int'), y_pred)))\n",
    "\n",
    "# Check for overfitting\n",
    "print('Checking for overfitting:')\n",
    "print('Training set score: {:.4f}'.format(nb_classifier.score(X_train, y_train.astype('int'))))\n",
    "print('Test set score: {:.4f}'.format(nb_classifier.score(X_test, y_test.astype('int'))))\n",
    "\n",
    "# Confusion matrix\n",
    "cm = confusion_matrix(y_test.astype('int'), y_pred)\n",
    "sns.heatmap(cm, annot=True, fmt='d', cmap='Blues')\n",
    "plt.xlabel('Predicted')\n",
    "plt.ylabel('Actual')\n",
    "\n",
    "FP = cm.sum(axis=0) - np.diag(cm)\n",
    "FN = cm.sum(axis=1) - np.diag(cm)\n",
    "TP = np.diag(cm)\n",
    "TN = cm.sum() - (FP + FN + TP)\n",
    "\n",
    "print('False Positives:', FP)\n",
    "print('False Negatives:', FN)\n",
    "print('True Positives:', TP)\n",
    "print('True Negatives:', TN)"
   ],
   "metadata": {
    "collapsed": false,
    "ExecuteTime": {
     "end_time": "2023-06-06T14:14:15.109356700Z",
     "start_time": "2023-06-06T14:14:13.155814200Z"
    }
   }
  },
  {
   "cell_type": "markdown",
   "source": [
    "### K-Nearest Neighbors\n",
    "è un classificatore non un regressore"
   ],
   "metadata": {
    "collapsed": false
   }
  }
 ],
 "metadata": {
  "kernelspec": {
   "display_name": "Python 3",
   "language": "python",
   "name": "python3"
  },
  "language_info": {
   "codemirror_mode": {
    "name": "ipython",
    "version": 2
   },
   "file_extension": ".py",
   "mimetype": "text/x-python",
   "name": "python",
   "nbconvert_exporter": "python",
   "pygments_lexer": "ipython2",
   "version": "2.7.6"
  }
 },
 "nbformat": 4,
 "nbformat_minor": 0
}
