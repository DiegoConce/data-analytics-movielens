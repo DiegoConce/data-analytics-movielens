{
 "cells": [
  {
   "cell_type": "code",
   "execution_count": 1,
   "metadata": {
    "collapsed": true,
    "ExecuteTime": {
     "end_time": "2023-06-07T14:06:27.165899700Z",
     "start_time": "2023-06-07T14:06:24.771614100Z"
    }
   },
   "outputs": [],
   "source": [
    "import torch\n",
    "import pandas as pd\n",
    "import numpy as np\n",
    "import seaborn as sns\n",
    "import matplotlib.pyplot as plt\n",
    "from sklearn.model_selection import train_test_split\n",
    "from sklearn.metrics import mean_squared_error\n",
    "from sklearn.metrics import r2_score"
   ]
  },
  {
   "cell_type": "markdown",
   "source": [
    "## Neural Network ML"
   ],
   "metadata": {
    "collapsed": false
   }
  },
  {
   "cell_type": "code",
   "execution_count": 2,
   "outputs": [
    {
     "data": {
      "text/plain": "   rating_mean      007  007 (series)  18th century    1920s    1930s   \n0     3.893708  0.02875       0.02375       0.06250  0.07575  0.14075  \\\n1     3.251527  0.04125       0.04050       0.06275  0.08275  0.09100   \n2     3.142028  0.04675       0.05550       0.02925  0.08700  0.04750   \n3     2.853547  0.03425       0.03800       0.04050  0.03100  0.06500   \n4     3.058434  0.04300       0.05325       0.03800  0.04100  0.05400   \n\n     1950s    1960s    1970s   1980s  ...  Film-Noir  Horror  IMAX  Musical   \n0  0.14675  0.06350  0.20375  0.2020  ...          0       0     0        0  \\\n1  0.06125  0.06925  0.09600  0.0765  ...          0       0     0        0   \n2  0.04775  0.04600  0.14275  0.0285  ...          0       0     0        0   \n3  0.03575  0.02900  0.08650  0.0320  ...          0       0     0        0   \n4  0.06725  0.02775  0.07650  0.0215  ...          0       0     0        0   \n\n   Mystery  Romance  Sci-Fi  Thriller  War  Western  \n0        0        0       0         0    0        0  \n1        0        0       0         0    0        0  \n2        0        1       0         0    0        0  \n3        0        1       0         0    0        0  \n4        0        0       0         0    0        0  \n\n[5 rows x 1148 columns]",
      "text/html": "<div>\n<style scoped>\n    .dataframe tbody tr th:only-of-type {\n        vertical-align: middle;\n    }\n\n    .dataframe tbody tr th {\n        vertical-align: top;\n    }\n\n    .dataframe thead th {\n        text-align: right;\n    }\n</style>\n<table border=\"1\" class=\"dataframe\">\n  <thead>\n    <tr style=\"text-align: right;\">\n      <th></th>\n      <th>rating_mean</th>\n      <th>007</th>\n      <th>007 (series)</th>\n      <th>18th century</th>\n      <th>1920s</th>\n      <th>1930s</th>\n      <th>1950s</th>\n      <th>1960s</th>\n      <th>1970s</th>\n      <th>1980s</th>\n      <th>...</th>\n      <th>Film-Noir</th>\n      <th>Horror</th>\n      <th>IMAX</th>\n      <th>Musical</th>\n      <th>Mystery</th>\n      <th>Romance</th>\n      <th>Sci-Fi</th>\n      <th>Thriller</th>\n      <th>War</th>\n      <th>Western</th>\n    </tr>\n  </thead>\n  <tbody>\n    <tr>\n      <th>0</th>\n      <td>3.893708</td>\n      <td>0.02875</td>\n      <td>0.02375</td>\n      <td>0.06250</td>\n      <td>0.07575</td>\n      <td>0.14075</td>\n      <td>0.14675</td>\n      <td>0.06350</td>\n      <td>0.20375</td>\n      <td>0.2020</td>\n      <td>...</td>\n      <td>0</td>\n      <td>0</td>\n      <td>0</td>\n      <td>0</td>\n      <td>0</td>\n      <td>0</td>\n      <td>0</td>\n      <td>0</td>\n      <td>0</td>\n      <td>0</td>\n    </tr>\n    <tr>\n      <th>1</th>\n      <td>3.251527</td>\n      <td>0.04125</td>\n      <td>0.04050</td>\n      <td>0.06275</td>\n      <td>0.08275</td>\n      <td>0.09100</td>\n      <td>0.06125</td>\n      <td>0.06925</td>\n      <td>0.09600</td>\n      <td>0.0765</td>\n      <td>...</td>\n      <td>0</td>\n      <td>0</td>\n      <td>0</td>\n      <td>0</td>\n      <td>0</td>\n      <td>0</td>\n      <td>0</td>\n      <td>0</td>\n      <td>0</td>\n      <td>0</td>\n    </tr>\n    <tr>\n      <th>2</th>\n      <td>3.142028</td>\n      <td>0.04675</td>\n      <td>0.05550</td>\n      <td>0.02925</td>\n      <td>0.08700</td>\n      <td>0.04750</td>\n      <td>0.04775</td>\n      <td>0.04600</td>\n      <td>0.14275</td>\n      <td>0.0285</td>\n      <td>...</td>\n      <td>0</td>\n      <td>0</td>\n      <td>0</td>\n      <td>0</td>\n      <td>0</td>\n      <td>1</td>\n      <td>0</td>\n      <td>0</td>\n      <td>0</td>\n      <td>0</td>\n    </tr>\n    <tr>\n      <th>3</th>\n      <td>2.853547</td>\n      <td>0.03425</td>\n      <td>0.03800</td>\n      <td>0.04050</td>\n      <td>0.03100</td>\n      <td>0.06500</td>\n      <td>0.03575</td>\n      <td>0.02900</td>\n      <td>0.08650</td>\n      <td>0.0320</td>\n      <td>...</td>\n      <td>0</td>\n      <td>0</td>\n      <td>0</td>\n      <td>0</td>\n      <td>0</td>\n      <td>1</td>\n      <td>0</td>\n      <td>0</td>\n      <td>0</td>\n      <td>0</td>\n    </tr>\n    <tr>\n      <th>4</th>\n      <td>3.058434</td>\n      <td>0.04300</td>\n      <td>0.05325</td>\n      <td>0.03800</td>\n      <td>0.04100</td>\n      <td>0.05400</td>\n      <td>0.06725</td>\n      <td>0.02775</td>\n      <td>0.07650</td>\n      <td>0.0215</td>\n      <td>...</td>\n      <td>0</td>\n      <td>0</td>\n      <td>0</td>\n      <td>0</td>\n      <td>0</td>\n      <td>0</td>\n      <td>0</td>\n      <td>0</td>\n      <td>0</td>\n      <td>0</td>\n    </tr>\n  </tbody>\n</table>\n<p>5 rows × 1148 columns</p>\n</div>"
     },
     "metadata": {},
     "output_type": "display_data"
    },
    {
     "name": "stdout",
     "output_type": "stream",
     "text": [
      "Number of samples: 13798\n"
     ]
    }
   ],
   "source": [
    "seed = 42\n",
    "np.random.seed(seed)\n",
    "\n",
    "df = pd.read_csv('dataset.csv')\n",
    "display(df.head())\n",
    "print(f'Number of samples: {df.shape[0]}')"
   ],
   "metadata": {
    "collapsed": false,
    "ExecuteTime": {
     "end_time": "2023-06-07T14:06:29.943403500Z",
     "start_time": "2023-06-07T14:06:27.165899700Z"
    }
   }
  },
  {
   "cell_type": "code",
   "execution_count": 3,
   "outputs": [
    {
     "name": "stdout",
     "output_type": "stream",
     "text": [
      "Using device: cuda\n"
     ]
    }
   ],
   "source": [
    "# PyTorch Device\n",
    "if torch.cuda.is_available():\n",
    "    device = torch.device('cuda')\n",
    "elif torch.backends.mps.is_available():\n",
    "    device = torch.device('mps')\n",
    "else:\n",
    "    device = torch.device('cpu')\n",
    "\n",
    "print('Using device:', device)"
   ],
   "metadata": {
    "collapsed": false,
    "ExecuteTime": {
     "end_time": "2023-06-07T14:06:30.593466700Z",
     "start_time": "2023-06-07T14:06:29.949464900Z"
    }
   }
  },
  {
   "cell_type": "markdown",
   "source": [
    "### Data Preprocessing"
   ],
   "metadata": {
    "collapsed": false
   }
  },
  {
   "cell_type": "code",
   "execution_count": 6,
   "outputs": [],
   "source": [
    "X = df.drop('rating_mean', axis=1)\n",
    "y = df['rating_mean']\n",
    "\n",
    "X_train, X_test, y_train, y_test = train_test_split(X, y, test_size=0.2, random_state=seed)\n",
    "\n",
    "X_train, X_val, y_train, y_val = train_test_split(X_train, y_train, test_size=0.1, random_state=seed)\n",
    "\n",
    "X_train = torch.tensor(X_train.values, dtype=torch.float32).to(device)\n",
    "X_val = torch.tensor(X_val.values, dtype=torch.float32).to(device)\n",
    "X_test = torch.tensor(X_test.values, dtype=torch.float32).to(device)\n",
    "y_train = torch.tensor(y_train.values, dtype=torch.float32).to(device)\n",
    "y_val = torch.tensor(y_val.values, dtype=torch.float32).to(device)\n",
    "y_test = torch.tensor(y_test.values, dtype=torch.float32).to(device)"
   ],
   "metadata": {
    "collapsed": false,
    "ExecuteTime": {
     "end_time": "2023-06-07T14:10:43.331819Z",
     "start_time": "2023-06-07T14:10:42.716901300Z"
    }
   }
  },
  {
   "cell_type": "code",
   "execution_count": 8,
   "outputs": [
    {
     "name": "stdout",
     "output_type": "stream",
     "text": [
      "Number of training samples: 9934\n",
      "Number of validation samples: 1104\n",
      "Number of test samples: 2760\n"
     ]
    }
   ],
   "source": [
    "print('Number of training samples:', X_train.shape[0])\n",
    "print('Number of validation samples:', X_val.shape[0])\n",
    "print('Number of test samples:', X_test.shape[0])\n",
    "\n",
    "train_set = torch.utils.data.DataLoader(torch.utils.data.TensorDataset(X_train, y_train), batch_size=32, shuffle=True)\n",
    "val_set = torch.utils.data.DataLoader(torch.utils.data.TensorDataset(X_val, y_val), batch_size=32, shuffle=True)\n",
    "test_set = torch.utils.data.DataLoader(torch.utils.data.TensorDataset(X_test, y_test), batch_size=32, shuffle=True)"
   ],
   "metadata": {
    "collapsed": false,
    "ExecuteTime": {
     "end_time": "2023-06-07T14:12:56.085578500Z",
     "start_time": "2023-06-07T14:12:56.080593600Z"
    }
   }
  },
  {
   "cell_type": "code",
   "execution_count": null,
   "outputs": [],
   "source": [],
   "metadata": {
    "collapsed": false
   }
  }
 ],
 "metadata": {
  "kernelspec": {
   "display_name": "Python 3",
   "language": "python",
   "name": "python3"
  },
  "language_info": {
   "codemirror_mode": {
    "name": "ipython",
    "version": 2
   },
   "file_extension": ".py",
   "mimetype": "text/x-python",
   "name": "python",
   "nbconvert_exporter": "python",
   "pygments_lexer": "ipython2",
   "version": "2.7.6"
  }
 },
 "nbformat": 4,
 "nbformat_minor": 0
}
