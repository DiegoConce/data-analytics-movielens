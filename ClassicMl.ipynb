{
 "cells": [
  {
   "cell_type": "code",
   "execution_count": 7,
   "metadata": {
    "ExecuteTime": {
     "end_time": "2023-09-13T21:26:24.048419700Z",
     "start_time": "2023-09-13T21:26:24.030972500Z"
    }
   },
   "outputs": [],
   "source": [
    "import pandas as pd\n",
    "import numpy as np\n",
    "import os\n",
    "import seaborn as sns\n",
    "import matplotlib.pyplot as plt\n",
    "import itertools\n",
    "from sklearn.model_selection import GridSearchCV\n",
    "from sklearn.linear_model import LinearRegression\n",
    "from sklearn.model_selection import train_test_split\n",
    "from sklearn.metrics import mean_squared_error\n",
    "from sklearn.metrics import r2_score\n",
    "from sklearn.decomposition import PCA\n",
    "from torch.utils.tensorboard import SummaryWriter\n",
    "\n",
    "from warnings import simplefilter\n",
    "from sklearn.exceptions import ConvergenceWarning\n",
    "\n",
    "simplefilter(\"ignore\", category=ConvergenceWarning)\n",
    "\n",
    "if not os.path.exists('results'):\n",
    "    os.mkdir('results')\n",
    "\n",
    "if not os.path.exists('results/pca'):\n",
    "    os.mkdir('results/pca')\n",
    "\n",
    "if not os.path.exists('results/no_pca'):\n",
    "    os.mkdir('results/no_pca')"
   ]
  },
  {
   "cell_type": "markdown",
   "metadata": {},
   "source": [
    "## Classic Machine Learning Techniques"
   ]
  },
  {
   "cell_type": "code",
   "execution_count": 8,
   "outputs": [],
   "source": [
    "is_pca = True\n",
    "\n",
    "if is_pca:\n",
    "    path = 'runs/classicMl/pca/'\n",
    "    results_path = 'results/pca/'\n",
    "else:\n",
    "    path = 'runs/classicMl/no_pca/'\n",
    "    results_path = 'results/no_pca/'"
   ],
   "metadata": {
    "collapsed": false,
    "ExecuteTime": {
     "end_time": "2023-09-13T21:26:28.004181500Z",
     "start_time": "2023-09-13T21:26:27.998688900Z"
    }
   }
  },
  {
   "cell_type": "code",
   "execution_count": 9,
   "metadata": {
    "ExecuteTime": {
     "end_time": "2023-09-13T21:26:30.938939500Z",
     "start_time": "2023-09-13T21:26:28.460527200Z"
    }
   },
   "outputs": [
    {
     "data": {
      "text/plain": "   rating_mean      007  007 (series)  18th century    1920s    1930s   \n0     3.893708  0.02875       0.02375       0.06250  0.07575  0.14075  \\\n1     3.251527  0.04125       0.04050       0.06275  0.08275  0.09100   \n2     3.142028  0.04675       0.05550       0.02925  0.08700  0.04750   \n3     2.853547  0.03425       0.03800       0.04050  0.03100  0.06500   \n4     3.058434  0.04300       0.05325       0.03800  0.04100  0.05400   \n\n     1950s    1960s    1970s   1980s  ...  Film-Noir  Horror  IMAX  Musical   \n0  0.14675  0.06350  0.20375  0.2020  ...          0       0     0        0  \\\n1  0.06125  0.06925  0.09600  0.0765  ...          0       0     0        0   \n2  0.04775  0.04600  0.14275  0.0285  ...          0       0     0        0   \n3  0.03575  0.02900  0.08650  0.0320  ...          0       0     0        0   \n4  0.06725  0.02775  0.07650  0.0215  ...          0       0     0        0   \n\n   Mystery  Romance  Sci-Fi  Thriller  War  Western  \n0        0        0       0         0    0        0  \n1        0        0       0         0    0        0  \n2        0        1       0         0    0        0  \n3        0        1       0         0    0        0  \n4        0        0       0         0    0        0  \n\n[5 rows x 1149 columns]",
      "text/html": "<div>\n<style scoped>\n    .dataframe tbody tr th:only-of-type {\n        vertical-align: middle;\n    }\n\n    .dataframe tbody tr th {\n        vertical-align: top;\n    }\n\n    .dataframe thead th {\n        text-align: right;\n    }\n</style>\n<table border=\"1\" class=\"dataframe\">\n  <thead>\n    <tr style=\"text-align: right;\">\n      <th></th>\n      <th>rating_mean</th>\n      <th>007</th>\n      <th>007 (series)</th>\n      <th>18th century</th>\n      <th>1920s</th>\n      <th>1930s</th>\n      <th>1950s</th>\n      <th>1960s</th>\n      <th>1970s</th>\n      <th>1980s</th>\n      <th>...</th>\n      <th>Film-Noir</th>\n      <th>Horror</th>\n      <th>IMAX</th>\n      <th>Musical</th>\n      <th>Mystery</th>\n      <th>Romance</th>\n      <th>Sci-Fi</th>\n      <th>Thriller</th>\n      <th>War</th>\n      <th>Western</th>\n    </tr>\n  </thead>\n  <tbody>\n    <tr>\n      <th>0</th>\n      <td>3.893708</td>\n      <td>0.02875</td>\n      <td>0.02375</td>\n      <td>0.06250</td>\n      <td>0.07575</td>\n      <td>0.14075</td>\n      <td>0.14675</td>\n      <td>0.06350</td>\n      <td>0.20375</td>\n      <td>0.2020</td>\n      <td>...</td>\n      <td>0</td>\n      <td>0</td>\n      <td>0</td>\n      <td>0</td>\n      <td>0</td>\n      <td>0</td>\n      <td>0</td>\n      <td>0</td>\n      <td>0</td>\n      <td>0</td>\n    </tr>\n    <tr>\n      <th>1</th>\n      <td>3.251527</td>\n      <td>0.04125</td>\n      <td>0.04050</td>\n      <td>0.06275</td>\n      <td>0.08275</td>\n      <td>0.09100</td>\n      <td>0.06125</td>\n      <td>0.06925</td>\n      <td>0.09600</td>\n      <td>0.0765</td>\n      <td>...</td>\n      <td>0</td>\n      <td>0</td>\n      <td>0</td>\n      <td>0</td>\n      <td>0</td>\n      <td>0</td>\n      <td>0</td>\n      <td>0</td>\n      <td>0</td>\n      <td>0</td>\n    </tr>\n    <tr>\n      <th>2</th>\n      <td>3.142028</td>\n      <td>0.04675</td>\n      <td>0.05550</td>\n      <td>0.02925</td>\n      <td>0.08700</td>\n      <td>0.04750</td>\n      <td>0.04775</td>\n      <td>0.04600</td>\n      <td>0.14275</td>\n      <td>0.0285</td>\n      <td>...</td>\n      <td>0</td>\n      <td>0</td>\n      <td>0</td>\n      <td>0</td>\n      <td>0</td>\n      <td>1</td>\n      <td>0</td>\n      <td>0</td>\n      <td>0</td>\n      <td>0</td>\n    </tr>\n    <tr>\n      <th>3</th>\n      <td>2.853547</td>\n      <td>0.03425</td>\n      <td>0.03800</td>\n      <td>0.04050</td>\n      <td>0.03100</td>\n      <td>0.06500</td>\n      <td>0.03575</td>\n      <td>0.02900</td>\n      <td>0.08650</td>\n      <td>0.0320</td>\n      <td>...</td>\n      <td>0</td>\n      <td>0</td>\n      <td>0</td>\n      <td>0</td>\n      <td>0</td>\n      <td>1</td>\n      <td>0</td>\n      <td>0</td>\n      <td>0</td>\n      <td>0</td>\n    </tr>\n    <tr>\n      <th>4</th>\n      <td>3.058434</td>\n      <td>0.04300</td>\n      <td>0.05325</td>\n      <td>0.03800</td>\n      <td>0.04100</td>\n      <td>0.05400</td>\n      <td>0.06725</td>\n      <td>0.02775</td>\n      <td>0.07650</td>\n      <td>0.0215</td>\n      <td>...</td>\n      <td>0</td>\n      <td>0</td>\n      <td>0</td>\n      <td>0</td>\n      <td>0</td>\n      <td>0</td>\n      <td>0</td>\n      <td>0</td>\n      <td>0</td>\n      <td>0</td>\n    </tr>\n  </tbody>\n</table>\n<p>5 rows × 1149 columns</p>\n</div>"
     },
     "metadata": {},
     "output_type": "display_data"
    },
    {
     "name": "stdout",
     "output_type": "stream",
     "text": [
      "Number of samples: 13798\n"
     ]
    }
   ],
   "source": [
    "seed = 42\n",
    "np.random.seed(seed)\n",
    "\n",
    "df = pd.read_csv('dataset.csv')\n",
    "display(df.head())\n",
    "print(f'Number of samples: {df.shape[0]}')"
   ]
  },
  {
   "cell_type": "markdown",
   "metadata": {},
   "source": [
    "### Data Preprocessing"
   ]
  },
  {
   "cell_type": "code",
   "execution_count": 10,
   "metadata": {
    "ExecuteTime": {
     "end_time": "2023-09-13T21:26:31.116417500Z",
     "start_time": "2023-09-13T21:26:30.937942800Z"
    }
   },
   "outputs": [
    {
     "name": "stdout",
     "output_type": "stream",
     "text": [
      "Number of training samples: (9934, 1148)\n",
      "Number of testing samples: (2760, 1148)\n",
      "Number of validation samples: (1104, 1148)\n"
     ]
    }
   ],
   "source": [
    "X = df.drop('rating_mean', axis=1)\n",
    "y = df['rating_mean']\n",
    "\n",
    "# Train Test and Validation\n",
    "X_train, X_test, y_train, y_test = train_test_split(X, y, test_size=0.2, random_state=seed)\n",
    "\n",
    "X_train, X_val, y_train, y_val = train_test_split(X_train, y_train, test_size=0.1, random_state=seed)\n",
    "\n",
    "print('Number of training samples:', X_train.shape)\n",
    "print('Number of testing samples:', X_test.shape)\n",
    "print('Number of validation samples:', X_val.shape)"
   ]
  },
  {
   "cell_type": "code",
   "execution_count": 11,
   "outputs": [
    {
     "name": "stdout",
     "output_type": "stream",
     "text": [
      "Applying PCA...\n",
      "Number of features after PCA: 543\n"
     ]
    }
   ],
   "source": [
    "if is_pca:\n",
    "    print(\"Applying PCA...\")\n",
    "    pca = PCA(n_components=0.95)\n",
    "    pca.fit(X_train)\n",
    "    X_train = pca.transform(X_train)\n",
    "    X_val = pca.transform(X_val)\n",
    "    X_test = pca.transform(X_test)\n",
    "    print(f'Number of features after PCA: {X_train.shape[1]}')\n",
    "else:\n",
    "    print(\"PCA is not applied\")"
   ],
   "metadata": {
    "collapsed": false,
    "ExecuteTime": {
     "end_time": "2023-09-13T21:26:33.451931700Z",
     "start_time": "2023-09-13T21:26:31.117414400Z"
    }
   }
  },
  {
   "cell_type": "markdown",
   "metadata": {},
   "source": [
    "# Models\n",
    "### Linear Regression"
   ]
  },
  {
   "cell_type": "code",
   "execution_count": 6,
   "metadata": {
    "ExecuteTime": {
     "end_time": "2023-09-13T21:25:57.174574700Z",
     "start_time": "2023-09-13T21:25:56.840938200Z"
    }
   },
   "outputs": [
    {
     "name": "stdout",
     "output_type": "stream",
     "text": [
      "Linear Regression Results:\n",
      "Mean Square Error: 0.0063633984275459\n",
      "R2 Score: 0.971788385235882\n"
     ]
    },
    {
     "data": {
      "text/plain": "65"
     },
     "execution_count": 6,
     "metadata": {},
     "output_type": "execute_result"
    }
   ],
   "source": [
    "writer = SummaryWriter(path + 'linear_regression')\n",
    "\n",
    "regressor = LinearRegression()\n",
    "regressor.fit(X_train, y_train)\n",
    "\n",
    "y_pred = regressor.predict(X_test)\n",
    "\n",
    "mse = mean_squared_error(y_test, y_pred)\n",
    "r2 = r2_score(y_test, y_pred)\n",
    "\n",
    "writer.add_scalar('Loss', mse)\n",
    "writer.flush()\n",
    "\n",
    "print('Linear Regression Results:')\n",
    "print('Mean Square Error:', mse)\n",
    "print('R2 Score:', r2)\n",
    "\n",
    "open(results_path + 'linear_regression.txt', 'w').write(f'Mean Square Error: {mse}\\nR2 Score: {r2}')"
   ]
  },
  {
   "cell_type": "markdown",
   "metadata": {},
   "source": [
    "### Ridge Regression"
   ]
  },
  {
   "cell_type": "code",
   "execution_count": 40,
   "metadata": {
    "ExecuteTime": {
     "end_time": "2023-09-13T23:32:56.670065Z",
     "start_time": "2023-09-13T23:32:54.578448900Z"
    }
   },
   "outputs": [
    {
     "name": "stdout",
     "output_type": "stream",
     "text": [
      "Grid Search Results:\n",
      "Best Parameters: {'alpha': 10}\n",
      "Best Score (negative MSE) : -0.006438020763516988\n"
     ]
    }
   ],
   "source": [
    "from sklearn.linear_model import Ridge\n",
    "\n",
    "parameters = {'alpha': [0.001, 0.01, 0.1, 1, 10, 100]}\n",
    "ridge_regressor = Ridge()\n",
    "\n",
    "grid_search = GridSearchCV(ridge_regressor, parameters, scoring='neg_mean_squared_error', cv=5)\n",
    "grid_search.fit(X_train, y_train)\n",
    "\n",
    "print('Grid Search Results:')\n",
    "print('Best Parameters:', grid_search.best_params_)\n",
    "print('Best Score (negative MSE) :', grid_search.best_score_)"
   ]
  },
  {
   "cell_type": "code",
   "execution_count": 41,
   "outputs": [
    {
     "name": "stdout",
     "output_type": "stream",
     "text": [
      "Ridge Regression Results:\n",
      "Mean Square Error: 0.006312944962890811\n",
      "R2 Score: 0.9720120666106334\n"
     ]
    }
   ],
   "source": [
    "ridge_regressor = Ridge(alpha=grid_search.best_params_['alpha'])\n",
    "ridge_regressor.fit(X_train, y_train)\n",
    "\n",
    "y_pred = ridge_regressor.predict(X_test)\n",
    "\n",
    "mse = mean_squared_error(y_test, y_pred)\n",
    "r2 = r2_score(y_test, y_pred)\n",
    "\n",
    "print('Ridge Regression Results:')\n",
    "print('Mean Square Error:', mse)\n",
    "print('R2 Score:', r2)"
   ],
   "metadata": {
    "collapsed": false,
    "ExecuteTime": {
     "end_time": "2023-09-13T23:32:56.726157100Z",
     "start_time": "2023-09-13T23:32:56.669067700Z"
    }
   }
  },
  {
   "cell_type": "code",
   "execution_count": 42,
   "metadata": {
    "ExecuteTime": {
     "end_time": "2023-09-13T23:32:56.736005300Z",
     "start_time": "2023-09-13T23:32:56.725159800Z"
    }
   },
   "outputs": [
    {
     "data": {
      "text/plain": "98"
     },
     "execution_count": 42,
     "metadata": {},
     "output_type": "execute_result"
    }
   ],
   "source": [
    "writer = SummaryWriter(path + 'ridge_regression')\n",
    "\n",
    "writer.add_hparams(grid_search.best_params_, {'mse': mse})\n",
    "writer.flush()\n",
    "\n",
    "open(results_path + 'ridge_regression.txt', 'w').write(\n",
    "    f'Mean Square Error: {mse}\\nR2 Score: {r2}, \\nBest Params: {grid_search.best_params_}')"
   ]
  },
  {
   "cell_type": "markdown",
   "metadata": {},
   "source": [
    "### Lasso Regression"
   ]
  },
  {
   "cell_type": "code",
   "execution_count": 22,
   "metadata": {
    "ExecuteTime": {
     "end_time": "2023-09-13T21:49:45.728905400Z",
     "start_time": "2023-09-13T21:49:42.979631300Z"
    }
   },
   "outputs": [
    {
     "name": "stdout",
     "output_type": "stream",
     "text": [
      "Grid Search Results:\n",
      "Best Parameters: {'alpha': 0.0001}\n",
      "Best Score (negative MSE) : -0.006782228799314971\n"
     ]
    }
   ],
   "source": [
    "from sklearn.linear_model import Lasso\n",
    "\n",
    "parameters = {'alpha': [0.0001, 0.001, 0.01, 0.1, 1, 10, 100]}\n",
    "\n",
    "lasso_regressor = Lasso()\n",
    "\n",
    "grid_search = GridSearchCV(lasso_regressor, parameters, scoring='neg_mean_squared_error', cv=5)\n",
    "grid_search.fit(X_train, y_train)\n",
    "\n",
    "print('Grid Search Results:')\n",
    "print('Best Parameters:', grid_search.best_params_)\n",
    "print('Best Score (negative MSE) :', grid_search.best_score_)"
   ]
  },
  {
   "cell_type": "code",
   "execution_count": 23,
   "outputs": [
    {
     "name": "stdout",
     "output_type": "stream",
     "text": [
      "Lasso Regression Results:\n",
      "Mean Square Error: 0.006567002523988718\n",
      "R2 Score: 0.9708857228615796\n"
     ]
    }
   ],
   "source": [
    "lasso_regressor = Lasso(alpha=grid_search.best_params_['alpha'])\n",
    "lasso_regressor.fit(X_train, y_train)\n",
    "\n",
    "y_pred = lasso_regressor.predict(X_test)\n",
    "\n",
    "mse = mean_squared_error(y_test, y_pred)\n",
    "r2 = r2_score(y_test, y_pred)\n",
    "\n",
    "print('Lasso Regression Results:')\n",
    "print('Mean Square Error:', mse)\n",
    "print('R2 Score:', r2)"
   ],
   "metadata": {
    "collapsed": false,
    "ExecuteTime": {
     "end_time": "2023-09-13T21:49:48.891485700Z",
     "start_time": "2023-09-13T21:49:48.803055400Z"
    }
   }
  },
  {
   "cell_type": "code",
   "execution_count": 24,
   "metadata": {
    "ExecuteTime": {
     "end_time": "2023-09-13T21:49:50.060986800Z",
     "start_time": "2023-09-13T21:49:50.030757800Z"
    }
   },
   "outputs": [
    {
     "data": {
      "text/plain": "68"
     },
     "execution_count": 24,
     "metadata": {},
     "output_type": "execute_result"
    }
   ],
   "source": [
    "writer = SummaryWriter(path + 'lasso_regression')\n",
    "\n",
    "writer.add_hparams(grid_search.best_params_, {'mse': mse})\n",
    "\n",
    "open(results_path + 'lasso_regression.txt', 'w').write(\n",
    "    f'Mean Square Error: {mse}\\nR2 Score: {r2}\\nBest Params: {grid_search.best_params_}')"
   ]
  },
  {
   "cell_type": "markdown",
   "metadata": {},
   "source": [
    "### Elastic Net Regression"
   ]
  },
  {
   "cell_type": "code",
   "execution_count": 25,
   "metadata": {
    "ExecuteTime": {
     "end_time": "2023-09-13T21:52:43.206689700Z",
     "start_time": "2023-09-13T21:52:35.887106100Z"
    }
   },
   "outputs": [
    {
     "name": "stdout",
     "output_type": "stream",
     "text": [
      "Grid Search Results:\n",
      "Best Parameters: {'alpha': 0.0001, 'l1_ratio': 0.3}\n",
      "Best Score (negative MSE) : -0.006434737180532661\n"
     ]
    }
   ],
   "source": [
    "from sklearn.linear_model import ElasticNet\n",
    "\n",
    "param_grid = {'alpha': [1, 1e-2, 1e-3, 1e-4, 1e-5, 1e-6],\n",
    "              'l1_ratio': [0.3, 0.5, 0.7]}\n",
    "\n",
    "elastic_net_regressor = ElasticNet()\n",
    "\n",
    "grid_search = GridSearchCV(elastic_net_regressor, param_grid, scoring='neg_mean_squared_error', cv=5)\n",
    "grid_search.fit(X_train, y_train)\n",
    "\n",
    "print('Grid Search Results:')\n",
    "print('Best Parameters:', grid_search.best_params_)\n",
    "print('Best Score (negative MSE) :', grid_search.best_score_)"
   ]
  },
  {
   "cell_type": "code",
   "execution_count": 26,
   "outputs": [
    {
     "name": "stdout",
     "output_type": "stream",
     "text": [
      "Elastic Net Regression Results:\n",
      "Mean Square Error: 0.006322556484543574\n",
      "R2 Score: 0.9719694547029787\n"
     ]
    }
   ],
   "source": [
    "elastic_net_regressor = ElasticNet(alpha=grid_search.best_params_['alpha'],\n",
    "                                   l1_ratio=grid_search.best_params_['l1_ratio'])\n",
    "elastic_net_regressor.fit(X_train, y_train)\n",
    "\n",
    "y_pred = elastic_net_regressor.predict(X_test)\n",
    "\n",
    "mse = mean_squared_error(y_test, y_pred)\n",
    "r2 = r2_score(y_test, y_pred)\n",
    "\n",
    "print('Elastic Net Regression Results:')\n",
    "print('Mean Square Error:', mse)\n",
    "print('R2 Score:', r2)"
   ],
   "metadata": {
    "collapsed": false,
    "ExecuteTime": {
     "end_time": "2023-09-13T21:52:46.187808300Z",
     "start_time": "2023-09-13T21:52:46.105721500Z"
    }
   }
  },
  {
   "cell_type": "code",
   "execution_count": 27,
   "metadata": {
    "ExecuteTime": {
     "end_time": "2023-09-13T21:52:46.941896100Z",
     "start_time": "2023-09-13T21:52:46.907603600Z"
    }
   },
   "outputs": [
    {
     "data": {
      "text/plain": "68"
     },
     "execution_count": 27,
     "metadata": {},
     "output_type": "execute_result"
    }
   ],
   "source": [
    "writer = SummaryWriter(path + 'elastic_net_regression')\n",
    "\n",
    "writer.add_hparams(grid_search.best_params_, {'mse': mse})\n",
    "\n",
    "open(results_path + 'elastic_net_regression.txt', 'w').write(\n",
    "    f'Mean Square Error: {mse}\\nR2 Score: {r2}\\nBest Params: {grid_search.best_params_}')"
   ]
  },
  {
   "cell_type": "markdown",
   "metadata": {},
   "source": []
  },
  {
   "cell_type": "markdown",
   "metadata": {},
   "source": [
    "### Random Forest Regressor"
   ]
  },
  {
   "cell_type": "code",
   "execution_count": 28,
   "outputs": [
    {
     "name": "stdout",
     "output_type": "stream",
     "text": [
      "Fitting 2 folds for each of 18 candidates, totalling 36 fits\n",
      "[CV 1/2] END criterion=squared_error, max_depth=None, n_estimators=10;, score=-0.053 total time=  24.6s\n",
      "[CV 2/2] END criterion=squared_error, max_depth=None, n_estimators=10;, score=-0.053 total time=  23.5s\n",
      "[CV 1/2] END criterion=squared_error, max_depth=None, n_estimators=50;, score=-0.047 total time= 2.1min\n",
      "[CV 2/2] END criterion=squared_error, max_depth=None, n_estimators=50;, score=-0.047 total time= 2.0min\n",
      "[CV 1/2] END criterion=squared_error, max_depth=None, n_estimators=100;, score=-0.046 total time= 4.1min\n",
      "[CV 2/2] END criterion=squared_error, max_depth=None, n_estimators=100;, score=-0.045 total time= 3.9min\n",
      "[CV 1/2] END criterion=squared_error, max_depth=5, n_estimators=10;, score=-0.065 total time=  10.8s\n",
      "[CV 2/2] END criterion=squared_error, max_depth=5, n_estimators=10;, score=-0.064 total time=  10.9s\n",
      "[CV 1/2] END criterion=squared_error, max_depth=5, n_estimators=50;, score=-0.063 total time=  53.7s\n",
      "[CV 2/2] END criterion=squared_error, max_depth=5, n_estimators=50;, score=-0.060 total time=  51.2s\n",
      "[CV 1/2] END criterion=squared_error, max_depth=5, n_estimators=100;, score=-0.062 total time= 1.7min\n",
      "[CV 2/2] END criterion=squared_error, max_depth=5, n_estimators=100;, score=-0.060 total time= 1.8min\n",
      "[CV 1/2] END criterion=friedman_mse, max_depth=None, n_estimators=10;, score=-0.055 total time=  25.3s\n",
      "[CV 2/2] END criterion=friedman_mse, max_depth=None, n_estimators=10;, score=-0.054 total time=  25.3s\n",
      "[CV 1/2] END criterion=friedman_mse, max_depth=None, n_estimators=50;, score=-0.047 total time= 2.1min\n",
      "[CV 2/2] END criterion=friedman_mse, max_depth=None, n_estimators=50;, score=-0.046 total time= 2.1min\n",
      "[CV 1/2] END criterion=friedman_mse, max_depth=None, n_estimators=100;, score=-0.047 total time= 4.2min\n",
      "[CV 2/2] END criterion=friedman_mse, max_depth=None, n_estimators=100;, score=-0.045 total time= 4.1min\n",
      "[CV 1/2] END criterion=friedman_mse, max_depth=5, n_estimators=10;, score=-0.065 total time=  10.4s\n",
      "[CV 2/2] END criterion=friedman_mse, max_depth=5, n_estimators=10;, score=-0.061 total time=  10.4s\n",
      "[CV 1/2] END criterion=friedman_mse, max_depth=5, n_estimators=50;, score=-0.063 total time=  52.5s\n",
      "[CV 2/2] END criterion=friedman_mse, max_depth=5, n_estimators=50;, score=-0.060 total time=  52.4s\n",
      "[CV 1/2] END criterion=friedman_mse, max_depth=5, n_estimators=100;, score=-0.062 total time= 1.8min\n",
      "[CV 2/2] END criterion=friedman_mse, max_depth=5, n_estimators=100;, score=-0.060 total time= 1.7min\n",
      "[CV 1/2] END criterion=poisson, max_depth=None, n_estimators=10;, score=-0.054 total time=  30.3s\n",
      "[CV 2/2] END criterion=poisson, max_depth=None, n_estimators=10;, score=-0.051 total time=  29.6s\n",
      "[CV 1/2] END criterion=poisson, max_depth=None, n_estimators=50;, score=-0.048 total time= 2.5min\n",
      "[CV 2/2] END criterion=poisson, max_depth=None, n_estimators=50;, score=-0.046 total time= 2.5min\n",
      "[CV 1/2] END criterion=poisson, max_depth=None, n_estimators=100;, score=-0.046 total time= 5.0min\n",
      "[CV 2/2] END criterion=poisson, max_depth=None, n_estimators=100;, score=-0.045 total time= 5.0min\n",
      "[CV 1/2] END criterion=poisson, max_depth=5, n_estimators=10;, score=-0.064 total time=  12.5s\n",
      "[CV 2/2] END criterion=poisson, max_depth=5, n_estimators=10;, score=-0.061 total time=  12.6s\n",
      "[CV 1/2] END criterion=poisson, max_depth=5, n_estimators=50;, score=-0.063 total time= 1.1min\n",
      "[CV 2/2] END criterion=poisson, max_depth=5, n_estimators=50;, score=-0.060 total time= 1.1min\n",
      "[CV 1/2] END criterion=poisson, max_depth=5, n_estimators=100;, score=-0.062 total time= 2.1min\n",
      "[CV 2/2] END criterion=poisson, max_depth=5, n_estimators=100;, score=-0.059 total time= 2.1min\n",
      "Grid Search Results:\n",
      "Best Parameters: {'criterion': 'squared_error', 'max_depth': None, 'n_estimators': 100}\n",
      "Best Score (negative MSE) : -0.045478577090076494\n"
     ]
    }
   ],
   "source": [
    "from sklearn.ensemble import RandomForestRegressor\n",
    "\n",
    "pram_grid = {'n_estimators': [50, 100, 150],\n",
    "             'max_depth': [5, 10],\n",
    "             'criterion': ['squared_error', 'friedman_mse', 'poisson']}\n",
    "\n",
    "random_forest_regressor = RandomForestRegressor()\n",
    "\n",
    "grid_search = GridSearchCV(random_forest_regressor, pram_grid, scoring='neg_mean_squared_error', cv=2, verbose=3)\n",
    "grid_search.fit(X_train, y_train)\n",
    "\n",
    "print('Grid Search Results:')\n",
    "print('Best Parameters:', grid_search.best_params_)\n",
    "print('Best Score (negative MSE) :', grid_search.best_score_)"
   ],
   "metadata": {
    "collapsed": false,
    "ExecuteTime": {
     "end_time": "2023-09-13T23:07:43.694108700Z",
     "start_time": "2023-09-13T21:58:26.794571400Z"
    }
   }
  },
  {
   "cell_type": "code",
   "execution_count": 29,
   "outputs": [
    {
     "name": "stdout",
     "output_type": "stream",
     "text": [
      "Random Forest Regression Results:\n",
      "Mean Square Error: 0.03765388632790462\n",
      "R2 Score: 0.8330645255754618\n"
     ]
    }
   ],
   "source": [
    "random_forest_regressor = RandomForestRegressor(n_estimators=grid_search.best_params_['n_estimators'],\n",
    "                                                max_depth=grid_search.best_params_['max_depth'],\n",
    "                                                criterion=grid_search.best_params_['criterion'])\n",
    "random_forest_regressor.fit(X_train, y_train)\n",
    "\n",
    "y_pred = random_forest_regressor.predict(X_test)\n",
    "\n",
    "mse = mean_squared_error(y_test, y_pred)\n",
    "r2 = r2_score(y_test, y_pred)\n",
    "\n",
    "print('Random Forest Regression Results:')\n",
    "print('Mean Square Error:', mse)\n",
    "print('R2 Score:', r2)"
   ],
   "metadata": {
    "collapsed": false,
    "ExecuteTime": {
     "end_time": "2023-09-13T23:16:37.997683Z",
     "start_time": "2023-09-13T23:07:43.698098400Z"
    }
   }
  },
  {
   "cell_type": "code",
   "execution_count": 30,
   "outputs": [
    {
     "data": {
      "text/plain": "67"
     },
     "execution_count": 30,
     "metadata": {},
     "output_type": "execute_result"
    }
   ],
   "source": [
    "writer = SummaryWriter(path + 'random_forest_regression')\n",
    "\n",
    "writer.add_hparams(grid_search.best_params_, {'mse': mse})\n",
    "\n",
    "open(results_path + 'random_forest_regression.txt', 'w').write(\n",
    "    f'Mean Square Error: {mse}\\nR2 Score: {r2}\\nBest Params: {grid_search.best_params_}')"
   ],
   "metadata": {
    "collapsed": false,
    "ExecuteTime": {
     "end_time": "2023-09-13T23:16:38.009228900Z",
     "start_time": "2023-09-13T23:16:38.000674500Z"
    }
   }
  },
  {
   "cell_type": "markdown",
   "metadata": {},
   "source": [
    "### Support Vector Regressor"
   ]
  },
  {
   "cell_type": "code",
   "execution_count": 31,
   "metadata": {
    "ExecuteTime": {
     "end_time": "2023-09-13T23:29:55.400582900Z",
     "start_time": "2023-09-13T23:16:38.010227200Z"
    }
   },
   "outputs": [
    {
     "name": "stdout",
     "output_type": "stream",
     "text": [
      "Fitting 2 folds for each of 48 candidates, totalling 96 fits\n",
      "[CV 1/2] END C=0.001, epsilon=0.001, kernel=linear;, score=-0.015 total time=   8.7s\n",
      "[CV 2/2] END C=0.001, epsilon=0.001, kernel=linear;, score=-0.014 total time=   8.7s\n",
      "[CV 1/2] END C=0.001, epsilon=0.001, kernel=poly;, score=-0.209 total time=   8.9s\n",
      "[CV 2/2] END C=0.001, epsilon=0.001, kernel=poly;, score=-0.190 total time=   8.9s\n",
      "[CV 1/2] END C=0.001, epsilon=0.001, kernel=rbf;, score=-0.167 total time=  14.3s\n",
      "[CV 2/2] END C=0.001, epsilon=0.001, kernel=rbf;, score=-0.154 total time=  14.3s\n",
      "[CV 1/2] END C=0.001, epsilon=0.01, kernel=linear;, score=-0.015 total time=   8.0s\n",
      "[CV 2/2] END C=0.001, epsilon=0.01, kernel=linear;, score=-0.014 total time=   8.0s\n",
      "[CV 1/2] END C=0.001, epsilon=0.01, kernel=poly;, score=-0.209 total time=   8.7s\n",
      "[CV 2/2] END C=0.001, epsilon=0.01, kernel=poly;, score=-0.190 total time=   8.8s\n",
      "[CV 1/2] END C=0.001, epsilon=0.01, kernel=rbf;, score=-0.167 total time=  14.0s\n",
      "[CV 2/2] END C=0.001, epsilon=0.01, kernel=rbf;, score=-0.154 total time=  14.1s\n",
      "[CV 1/2] END C=0.001, epsilon=0.1, kernel=linear;, score=-0.019 total time=   2.9s\n",
      "[CV 2/2] END C=0.001, epsilon=0.1, kernel=linear;, score=-0.017 total time=   2.9s\n",
      "[CV 1/2] END C=0.001, epsilon=0.1, kernel=poly;, score=-0.209 total time=   7.1s\n",
      "[CV 2/2] END C=0.001, epsilon=0.1, kernel=poly;, score=-0.191 total time=   7.2s\n",
      "[CV 1/2] END .C=0.001, epsilon=0.1, kernel=rbf;, score=-0.170 total time=  11.1s\n",
      "[CV 2/2] END .C=0.001, epsilon=0.1, kernel=rbf;, score=-0.156 total time=  11.2s\n",
      "[CV 1/2] END C=0.001, epsilon=1, kernel=linear;, score=-0.262 total time=   0.0s\n",
      "[CV 2/2] END C=0.001, epsilon=1, kernel=linear;, score=-0.283 total time=   0.0s\n",
      "[CV 1/2] END ..C=0.001, epsilon=1, kernel=poly;, score=-0.288 total time=   0.2s\n",
      "[CV 2/2] END ..C=0.001, epsilon=1, kernel=poly;, score=-0.306 total time=   0.2s\n",
      "[CV 1/2] END ...C=0.001, epsilon=1, kernel=rbf;, score=-0.279 total time=   0.4s\n",
      "[CV 2/2] END ...C=0.001, epsilon=1, kernel=rbf;, score=-0.296 total time=   0.4s\n",
      "[CV 1/2] END C=0.01, epsilon=0.001, kernel=linear;, score=-0.007 total time=   9.1s\n",
      "[CV 2/2] END C=0.01, epsilon=0.001, kernel=linear;, score=-0.007 total time=   9.1s\n",
      "[CV 1/2] END C=0.01, epsilon=0.001, kernel=poly;, score=-0.125 total time=   8.9s\n",
      "[CV 2/2] END C=0.01, epsilon=0.001, kernel=poly;, score=-0.113 total time=   8.9s\n",
      "[CV 1/2] END C=0.01, epsilon=0.001, kernel=rbf;, score=-0.048 total time=  14.2s\n",
      "[CV 2/2] END C=0.01, epsilon=0.001, kernel=rbf;, score=-0.045 total time=  14.2s\n",
      "[CV 1/2] END C=0.01, epsilon=0.01, kernel=linear;, score=-0.007 total time=   8.1s\n",
      "[CV 2/2] END C=0.01, epsilon=0.01, kernel=linear;, score=-0.007 total time=   8.2s\n",
      "[CV 1/2] END C=0.01, epsilon=0.01, kernel=poly;, score=-0.125 total time=   8.6s\n",
      "[CV 2/2] END C=0.01, epsilon=0.01, kernel=poly;, score=-0.113 total time=   8.7s\n",
      "[CV 1/2] END .C=0.01, epsilon=0.01, kernel=rbf;, score=-0.048 total time=  13.6s\n",
      "[CV 2/2] END .C=0.01, epsilon=0.01, kernel=rbf;, score=-0.046 total time=  13.7s\n",
      "[CV 1/2] END C=0.01, epsilon=0.1, kernel=linear;, score=-0.008 total time=   1.6s\n",
      "[CV 2/2] END C=0.01, epsilon=0.1, kernel=linear;, score=-0.007 total time=   1.6s\n",
      "[CV 1/2] END .C=0.01, epsilon=0.1, kernel=poly;, score=-0.127 total time=   6.3s\n",
      "[CV 2/2] END .C=0.01, epsilon=0.1, kernel=poly;, score=-0.116 total time=   6.4s\n",
      "[CV 1/2] END ..C=0.01, epsilon=0.1, kernel=rbf;, score=-0.052 total time=   8.2s\n",
      "[CV 2/2] END ..C=0.01, epsilon=0.1, kernel=rbf;, score=-0.049 total time=   8.2s\n",
      "[CV 1/2] END .C=0.01, epsilon=1, kernel=linear;, score=-0.269 total time=   0.0s\n",
      "[CV 2/2] END .C=0.01, epsilon=1, kernel=linear;, score=-0.285 total time=   0.0s\n",
      "[CV 1/2] END ...C=0.01, epsilon=1, kernel=poly;, score=-0.290 total time=   0.1s\n",
      "[CV 2/2] END ...C=0.01, epsilon=1, kernel=poly;, score=-0.315 total time=   0.1s\n",
      "[CV 1/2] END ....C=0.01, epsilon=1, kernel=rbf;, score=-0.256 total time=   0.2s\n",
      "[CV 2/2] END ....C=0.01, epsilon=1, kernel=rbf;, score=-0.275 total time=   0.2s\n",
      "[CV 1/2] END C=0.1, epsilon=0.001, kernel=linear;, score=-0.007 total time=  12.1s\n",
      "[CV 2/2] END C=0.1, epsilon=0.001, kernel=linear;, score=-0.007 total time=  12.7s\n",
      "[CV 1/2] END C=0.1, epsilon=0.001, kernel=poly;, score=-0.051 total time=   9.9s\n",
      "[CV 2/2] END C=0.1, epsilon=0.001, kernel=poly;, score=-0.047 total time=   9.9s\n",
      "[CV 1/2] END .C=0.1, epsilon=0.001, kernel=rbf;, score=-0.012 total time=  14.2s\n",
      "[CV 2/2] END .C=0.1, epsilon=0.001, kernel=rbf;, score=-0.012 total time=  14.2s\n",
      "[CV 1/2] END C=0.1, epsilon=0.01, kernel=linear;, score=-0.007 total time=  10.9s\n",
      "[CV 2/2] END C=0.1, epsilon=0.01, kernel=linear;, score=-0.007 total time=  10.9s\n",
      "[CV 1/2] END .C=0.1, epsilon=0.01, kernel=poly;, score=-0.051 total time=   8.6s\n",
      "[CV 2/2] END .C=0.1, epsilon=0.01, kernel=poly;, score=-0.047 total time=   8.8s\n",
      "[CV 1/2] END ..C=0.1, epsilon=0.01, kernel=rbf;, score=-0.012 total time=  13.0s\n",
      "[CV 2/2] END ..C=0.1, epsilon=0.01, kernel=rbf;, score=-0.012 total time=  13.0s\n",
      "[CV 1/2] END C=0.1, epsilon=0.1, kernel=linear;, score=-0.007 total time=   2.3s\n",
      "[CV 2/2] END C=0.1, epsilon=0.1, kernel=linear;, score=-0.007 total time=   2.4s\n",
      "[CV 1/2] END ..C=0.1, epsilon=0.1, kernel=poly;, score=-0.055 total time=   5.2s\n",
      "[CV 2/2] END ..C=0.1, epsilon=0.1, kernel=poly;, score=-0.051 total time=   5.2s\n",
      "[CV 1/2] END ...C=0.1, epsilon=0.1, kernel=rbf;, score=-0.015 total time=   4.5s\n",
      "[CV 2/2] END ...C=0.1, epsilon=0.1, kernel=rbf;, score=-0.016 total time=   4.7s\n",
      "[CV 1/2] END ..C=0.1, epsilon=1, kernel=linear;, score=-0.288 total time=   0.0s\n",
      "[CV 2/2] END ..C=0.1, epsilon=1, kernel=linear;, score=-0.295 total time=   0.0s\n",
      "[CV 1/2] END ....C=0.1, epsilon=1, kernel=poly;, score=-0.275 total time=   0.0s\n",
      "[CV 2/2] END ....C=0.1, epsilon=1, kernel=poly;, score=-0.312 total time=   0.0s\n",
      "[CV 1/2] END .....C=0.1, epsilon=1, kernel=rbf;, score=-0.244 total time=   0.1s\n",
      "[CV 2/2] END .....C=0.1, epsilon=1, kernel=rbf;, score=-0.268 total time=   0.1s\n",
      "[CV 1/2] END C=1, epsilon=0.001, kernel=linear;, score=-0.007 total time=  37.3s\n",
      "[CV 2/2] END C=1, epsilon=0.001, kernel=linear;, score=-0.007 total time=  39.0s\n",
      "[CV 1/2] END ..C=1, epsilon=0.001, kernel=poly;, score=-0.029 total time=   9.5s\n",
      "[CV 2/2] END ..C=1, epsilon=0.001, kernel=poly;, score=-0.032 total time=   9.5s\n",
      "[CV 1/2] END ...C=1, epsilon=0.001, kernel=rbf;, score=-0.008 total time=  15.0s\n",
      "[CV 2/2] END ...C=1, epsilon=0.001, kernel=rbf;, score=-0.009 total time=  15.0s\n",
      "[CV 1/2] END .C=1, epsilon=0.01, kernel=linear;, score=-0.007 total time=  33.6s\n",
      "[CV 2/2] END .C=1, epsilon=0.01, kernel=linear;, score=-0.007 total time=  35.3s\n",
      "[CV 1/2] END ...C=1, epsilon=0.01, kernel=poly;, score=-0.029 total time=   8.8s\n",
      "[CV 2/2] END ...C=1, epsilon=0.01, kernel=poly;, score=-0.032 total time=   9.0s\n",
      "[CV 1/2] END ....C=1, epsilon=0.01, kernel=rbf;, score=-0.008 total time=  13.9s\n",
      "[CV 2/2] END ....C=1, epsilon=0.01, kernel=rbf;, score=-0.009 total time=  14.2s\n",
      "[CV 1/2] END ..C=1, epsilon=0.1, kernel=linear;, score=-0.008 total time=   9.6s\n",
      "[CV 2/2] END ..C=1, epsilon=0.1, kernel=linear;, score=-0.007 total time=  10.0s\n",
      "[CV 1/2] END ....C=1, epsilon=0.1, kernel=poly;, score=-0.033 total time=   5.6s\n",
      "[CV 2/2] END ....C=1, epsilon=0.1, kernel=poly;, score=-0.036 total time=   4.8s\n",
      "[CV 1/2] END .....C=1, epsilon=0.1, kernel=rbf;, score=-0.011 total time=   3.9s\n",
      "[CV 2/2] END .....C=1, epsilon=0.1, kernel=rbf;, score=-0.011 total time=   4.2s\n",
      "[CV 1/2] END ....C=1, epsilon=1, kernel=linear;, score=-0.288 total time=   0.0s\n",
      "[CV 2/2] END ....C=1, epsilon=1, kernel=linear;, score=-0.295 total time=   0.0s\n",
      "[CV 1/2] END ......C=1, epsilon=1, kernel=poly;, score=-0.274 total time=   0.0s\n",
      "[CV 2/2] END ......C=1, epsilon=1, kernel=poly;, score=-0.324 total time=   0.0s\n",
      "[CV 1/2] END .......C=1, epsilon=1, kernel=rbf;, score=-0.259 total time=   0.1s\n",
      "[CV 2/2] END .......C=1, epsilon=1, kernel=rbf;, score=-0.272 total time=   0.0s\n",
      "Grid Search Results:\n",
      "Best Parameters: {'C': 0.01, 'epsilon': 0.01, 'kernel': 'linear'}\n",
      "Best Score (negative MSE) : -0.0070176551958590055\n"
     ]
    }
   ],
   "source": [
    "from sklearn.svm import SVR\n",
    "\n",
    "param_grid = {'C': [0.001, 0.01, 0.1, 1],\n",
    "              'epsilon': [0.001, 0.01, 0.1, 1],\n",
    "              'kernel': ['linear', 'poly', 'rbf']}\n",
    "\n",
    "svr_regressor = SVR()\n",
    "\n",
    "grid_search = GridSearchCV(svr_regressor, parameters, scoring='neg_mean_squared_error', cv=2, verbose=3)\n",
    "grid_search.fit(X_train, y_train)\n",
    "\n",
    "print('Grid Search Results:')\n",
    "print('Best Parameters:', grid_search.best_params_)\n",
    "print('Best Score (negative MSE) :', grid_search.best_score_)"
   ]
  },
  {
   "cell_type": "code",
   "execution_count": 32,
   "outputs": [
    {
     "name": "stdout",
     "output_type": "stream",
     "text": [
      "Support Vector Regression Results:\n",
      "Mean Square Error: 0.006360206657741281\n",
      "R2 Score: 0.9718025356904181\n"
     ]
    }
   ],
   "source": [
    "svr_regressor = SVR(C=grid_search.best_params_['C'],\n",
    "                    epsilon=grid_search.best_params_['epsilon'],\n",
    "                    kernel=grid_search.best_params_['kernel'])\n",
    "\n",
    "svr_regressor.fit(X_train, y_train)\n",
    "\n",
    "y_pred = svr_regressor.predict(X_test)\n",
    "\n",
    "mse = mean_squared_error(y_test, y_pred)\n",
    "r2 = r2_score(y_test, y_pred)\n",
    "\n",
    "print('Support Vector Regression Results:')\n",
    "print('Mean Square Error:', mse)\n",
    "print('R2 Score:', r2)"
   ],
   "metadata": {
    "collapsed": false,
    "ExecuteTime": {
     "end_time": "2023-09-13T23:30:19.989748Z",
     "start_time": "2023-09-13T23:29:55.402577900Z"
    }
   }
  },
  {
   "cell_type": "code",
   "execution_count": 33,
   "outputs": [
    {
     "data": {
      "text/plain": "68"
     },
     "execution_count": 33,
     "metadata": {},
     "output_type": "execute_result"
    }
   ],
   "source": [
    "writer = SummaryWriter(path + 'support_vector_regression')\n",
    "\n",
    "writer.add_hparams(grid_search.best_params_, {'mse': mse})\n",
    "\n",
    "open(results_path + 'support_vector_regression.txt', 'w').write(\n",
    "    f'Mean Square Error: {mse}\\nR2 Score: {r2}\\nBest Params: {grid_search.best_params_}')"
   ],
   "metadata": {
    "collapsed": false,
    "ExecuteTime": {
     "end_time": "2023-09-13T23:30:20.000940600Z",
     "start_time": "2023-09-13T23:30:19.989748Z"
    }
   }
  },
  {
   "cell_type": "markdown",
   "metadata": {},
   "source": [
    "### K-Nearest Neighbors"
   ]
  },
  {
   "cell_type": "code",
   "execution_count": 43,
   "metadata": {
    "ExecuteTime": {
     "end_time": "2023-09-13T23:34:28.885448800Z",
     "start_time": "2023-09-13T23:34:13.509038800Z"
    }
   },
   "outputs": [
    {
     "name": "stdout",
     "output_type": "stream",
     "text": [
      "Fitting 2 folds for each of 40 candidates, totalling 80 fits\n",
      "[CV 1/2] END ...n_neighbors=1, weights=uniform;, score=-0.088 total time=   0.1s\n",
      "[CV 2/2] END ...n_neighbors=1, weights=uniform;, score=-0.091 total time=   0.1s\n",
      "[CV 1/2] END ..n_neighbors=1, weights=distance;, score=-0.088 total time=   0.1s\n",
      "[CV 2/2] END ..n_neighbors=1, weights=distance;, score=-0.091 total time=   0.1s\n",
      "[CV 1/2] END ...n_neighbors=2, weights=uniform;, score=-0.065 total time=   0.0s\n",
      "[CV 2/2] END ...n_neighbors=2, weights=uniform;, score=-0.066 total time=   0.1s\n",
      "[CV 1/2] END ..n_neighbors=2, weights=distance;, score=-0.064 total time=   0.1s\n",
      "[CV 2/2] END ..n_neighbors=2, weights=distance;, score=-0.066 total time=   0.1s\n",
      "[CV 1/2] END ...n_neighbors=3, weights=uniform;, score=-0.058 total time=   0.2s\n",
      "[CV 2/2] END ...n_neighbors=3, weights=uniform;, score=-0.059 total time=   0.1s\n",
      "[CV 1/2] END ..n_neighbors=3, weights=distance;, score=-0.058 total time=   0.1s\n",
      "[CV 2/2] END ..n_neighbors=3, weights=distance;, score=-0.058 total time=   0.1s\n",
      "[CV 1/2] END ...n_neighbors=4, weights=uniform;, score=-0.055 total time=   0.1s\n",
      "[CV 2/2] END ...n_neighbors=4, weights=uniform;, score=-0.056 total time=   0.1s\n",
      "[CV 1/2] END ..n_neighbors=4, weights=distance;, score=-0.055 total time=   0.0s\n",
      "[CV 2/2] END ..n_neighbors=4, weights=distance;, score=-0.055 total time=   0.1s\n",
      "[CV 1/2] END ...n_neighbors=5, weights=uniform;, score=-0.053 total time=   0.1s\n",
      "[CV 2/2] END ...n_neighbors=5, weights=uniform;, score=-0.053 total time=   0.1s\n",
      "[CV 1/2] END ..n_neighbors=5, weights=distance;, score=-0.052 total time=   0.1s\n",
      "[CV 2/2] END ..n_neighbors=5, weights=distance;, score=-0.052 total time=   0.1s\n",
      "[CV 1/2] END ...n_neighbors=6, weights=uniform;, score=-0.053 total time=   0.1s\n",
      "[CV 2/2] END ...n_neighbors=6, weights=uniform;, score=-0.052 total time=   0.1s\n",
      "[CV 1/2] END ..n_neighbors=6, weights=distance;, score=-0.052 total time=   0.1s\n",
      "[CV 2/2] END ..n_neighbors=6, weights=distance;, score=-0.052 total time=   0.1s\n",
      "[CV 1/2] END ...n_neighbors=7, weights=uniform;, score=-0.052 total time=   0.1s\n",
      "[CV 2/2] END ...n_neighbors=7, weights=uniform;, score=-0.052 total time=   0.0s\n",
      "[CV 1/2] END ..n_neighbors=7, weights=distance;, score=-0.052 total time=   0.1s\n",
      "[CV 2/2] END ..n_neighbors=7, weights=distance;, score=-0.051 total time=   0.1s\n",
      "[CV 1/2] END ...n_neighbors=8, weights=uniform;, score=-0.052 total time=   0.1s\n",
      "[CV 2/2] END ...n_neighbors=8, weights=uniform;, score=-0.052 total time=   0.1s\n",
      "[CV 1/2] END ..n_neighbors=8, weights=distance;, score=-0.051 total time=   0.1s\n",
      "[CV 2/2] END ..n_neighbors=8, weights=distance;, score=-0.051 total time=   0.1s\n",
      "[CV 1/2] END ...n_neighbors=9, weights=uniform;, score=-0.052 total time=   0.1s\n",
      "[CV 2/2] END ...n_neighbors=9, weights=uniform;, score=-0.052 total time=   0.1s\n",
      "[CV 1/2] END ..n_neighbors=9, weights=distance;, score=-0.051 total time=   0.1s\n",
      "[CV 2/2] END ..n_neighbors=9, weights=distance;, score=-0.051 total time=   0.1s\n",
      "[CV 1/2] END ..n_neighbors=10, weights=uniform;, score=-0.052 total time=   0.1s\n",
      "[CV 2/2] END ..n_neighbors=10, weights=uniform;, score=-0.052 total time=   0.1s\n",
      "[CV 1/2] END .n_neighbors=10, weights=distance;, score=-0.051 total time=   0.1s\n",
      "[CV 2/2] END .n_neighbors=10, weights=distance;, score=-0.052 total time=   0.1s\n",
      "[CV 1/2] END ..n_neighbors=11, weights=uniform;, score=-0.051 total time=   0.1s\n",
      "[CV 2/2] END ..n_neighbors=11, weights=uniform;, score=-0.053 total time=   0.1s\n",
      "[CV 1/2] END .n_neighbors=11, weights=distance;, score=-0.051 total time=   0.1s\n",
      "[CV 2/2] END .n_neighbors=11, weights=distance;, score=-0.052 total time=   0.1s\n",
      "[CV 1/2] END ..n_neighbors=12, weights=uniform;, score=-0.051 total time=   0.1s\n",
      "[CV 2/2] END ..n_neighbors=12, weights=uniform;, score=-0.053 total time=   0.1s\n",
      "[CV 1/2] END .n_neighbors=12, weights=distance;, score=-0.051 total time=   0.1s\n",
      "[CV 2/2] END .n_neighbors=12, weights=distance;, score=-0.052 total time=   0.1s\n",
      "[CV 1/2] END ..n_neighbors=13, weights=uniform;, score=-0.051 total time=   0.1s\n",
      "[CV 2/2] END ..n_neighbors=13, weights=uniform;, score=-0.053 total time=   0.2s\n",
      "[CV 1/2] END .n_neighbors=13, weights=distance;, score=-0.051 total time=   0.1s\n",
      "[CV 2/2] END .n_neighbors=13, weights=distance;, score=-0.052 total time=   0.1s\n",
      "[CV 1/2] END ..n_neighbors=14, weights=uniform;, score=-0.052 total time=   0.2s\n",
      "[CV 2/2] END ..n_neighbors=14, weights=uniform;, score=-0.053 total time=   0.2s\n",
      "[CV 1/2] END .n_neighbors=14, weights=distance;, score=-0.051 total time=   0.1s\n",
      "[CV 2/2] END .n_neighbors=14, weights=distance;, score=-0.053 total time=   0.1s\n",
      "[CV 1/2] END ..n_neighbors=15, weights=uniform;, score=-0.052 total time=   0.2s\n",
      "[CV 2/2] END ..n_neighbors=15, weights=uniform;, score=-0.054 total time=   0.1s\n",
      "[CV 1/2] END .n_neighbors=15, weights=distance;, score=-0.051 total time=   0.1s\n",
      "[CV 2/2] END .n_neighbors=15, weights=distance;, score=-0.053 total time=   0.1s\n",
      "[CV 1/2] END ..n_neighbors=16, weights=uniform;, score=-0.052 total time=   0.1s\n",
      "[CV 2/2] END ..n_neighbors=16, weights=uniform;, score=-0.054 total time=   0.1s\n",
      "[CV 1/2] END .n_neighbors=16, weights=distance;, score=-0.051 total time=   0.2s\n",
      "[CV 2/2] END .n_neighbors=16, weights=distance;, score=-0.053 total time=   0.1s\n",
      "[CV 1/2] END ..n_neighbors=17, weights=uniform;, score=-0.052 total time=   0.1s\n",
      "[CV 2/2] END ..n_neighbors=17, weights=uniform;, score=-0.054 total time=   0.1s\n",
      "[CV 1/2] END .n_neighbors=17, weights=distance;, score=-0.051 total time=   0.1s\n",
      "[CV 2/2] END .n_neighbors=17, weights=distance;, score=-0.053 total time=   0.1s\n",
      "[CV 1/2] END ..n_neighbors=18, weights=uniform;, score=-0.052 total time=   0.2s\n",
      "[CV 2/2] END ..n_neighbors=18, weights=uniform;, score=-0.054 total time=   0.1s\n",
      "[CV 1/2] END .n_neighbors=18, weights=distance;, score=-0.052 total time=   0.1s\n",
      "[CV 2/2] END .n_neighbors=18, weights=distance;, score=-0.054 total time=   0.1s\n",
      "[CV 1/2] END ..n_neighbors=19, weights=uniform;, score=-0.053 total time=   0.1s\n",
      "[CV 2/2] END ..n_neighbors=19, weights=uniform;, score=-0.055 total time=   0.1s\n",
      "[CV 1/2] END .n_neighbors=19, weights=distance;, score=-0.052 total time=   0.1s\n",
      "[CV 2/2] END .n_neighbors=19, weights=distance;, score=-0.054 total time=   0.1s\n",
      "[CV 1/2] END ..n_neighbors=20, weights=uniform;, score=-0.053 total time=   0.1s\n",
      "[CV 2/2] END ..n_neighbors=20, weights=uniform;, score=-0.055 total time=   0.1s\n",
      "[CV 1/2] END .n_neighbors=20, weights=distance;, score=-0.052 total time=   0.1s\n",
      "[CV 2/2] END .n_neighbors=20, weights=distance;, score=-0.054 total time=   0.1s\n",
      "Grid Search Results:\n",
      "Best Parameters: {'n_neighbors': 9, 'weights': 'distance'}\n",
      "Best Score (negative MSE) : -0.05111262606896776\n"
     ]
    }
   ],
   "source": [
    "from sklearn.neighbors import KNeighborsRegressor\n",
    "\n",
    "param_grid = {'n_neighbors': np.arange(1, 21),\n",
    "              'weights': ['uniform', 'distance']}\n",
    "\n",
    "knn_regressor = KNeighborsRegressor()\n",
    "\n",
    "grid_search = GridSearchCV(knn_regressor, param_grid, scoring='neg_mean_squared_error', cv=2, verbose=3)\n",
    "\n",
    "grid_search.fit(X_train, y_train)\n",
    "\n",
    "print('Grid Search Results:')\n",
    "print('Best Parameters:', grid_search.best_params_)\n",
    "print('Best Score (negative MSE) :', grid_search.best_score_)"
   ]
  },
  {
   "cell_type": "code",
   "execution_count": 44,
   "outputs": [
    {
     "name": "stdout",
     "output_type": "stream",
     "text": [
      "K-Nearest Neighbors Regression Results:\n",
      "Mean Square Error: 0.04504755863379536\n",
      "R2 Score: 0.8002852744943125\n"
     ]
    }
   ],
   "source": [
    "knn_regressor = KNeighborsRegressor(n_neighbors=grid_search.best_params_['n_neighbors'],\n",
    "                                    weights=grid_search.best_params_['weights'])\n",
    "\n",
    "knn_regressor.fit(X_train, y_train)\n",
    "\n",
    "y_pred = knn_regressor.predict(X_test)\n",
    "\n",
    "mse = mean_squared_error(y_test, y_pred)\n",
    "r2 = r2_score(y_test, y_pred)\n",
    "\n",
    "print('K-Nearest Neighbors Regression Results:')\n",
    "print('Mean Square Error:', mse)\n",
    "print('R2 Score:', r2)"
   ],
   "metadata": {
    "collapsed": false,
    "ExecuteTime": {
     "end_time": "2023-09-13T23:34:29.049351100Z",
     "start_time": "2023-09-13T23:34:28.884451400Z"
    }
   }
  },
  {
   "cell_type": "code",
   "execution_count": 47,
   "outputs": [
    {
     "ename": "ValueError",
     "evalue": "value should be one of int, float, str, bool, or torch.Tensor",
     "output_type": "error",
     "traceback": [
      "\u001B[1;31m---------------------------------------------------------------------------\u001B[0m",
      "\u001B[1;31mValueError\u001B[0m                                Traceback (most recent call last)",
      "Cell \u001B[1;32mIn[47], line 3\u001B[0m\n\u001B[0;32m      1\u001B[0m writer \u001B[38;5;241m=\u001B[39m SummaryWriter(path \u001B[38;5;241m+\u001B[39m \u001B[38;5;124m'\u001B[39m\u001B[38;5;124mknn_regression\u001B[39m\u001B[38;5;124m'\u001B[39m)\n\u001B[1;32m----> 3\u001B[0m \u001B[43mwriter\u001B[49m\u001B[38;5;241;43m.\u001B[39;49m\u001B[43madd_hparams\u001B[49m\u001B[43m(\u001B[49m\u001B[43mgrid_search\u001B[49m\u001B[38;5;241;43m.\u001B[39;49m\u001B[43mbest_params_\u001B[49m\u001B[43m,\u001B[49m\u001B[43m \u001B[49m\u001B[43m{\u001B[49m\u001B[38;5;124;43m'\u001B[39;49m\u001B[38;5;124;43mmse\u001B[39;49m\u001B[38;5;124;43m'\u001B[39;49m\u001B[43m:\u001B[49m\u001B[43m \u001B[49m\u001B[43mmse\u001B[49m\u001B[43m}\u001B[49m\u001B[43m)\u001B[49m\n\u001B[0;32m      5\u001B[0m \u001B[38;5;28mopen\u001B[39m(results_path \u001B[38;5;241m+\u001B[39m \u001B[38;5;124m'\u001B[39m\u001B[38;5;124mknn_regression.txt\u001B[39m\u001B[38;5;124m'\u001B[39m, \u001B[38;5;124m'\u001B[39m\u001B[38;5;124mw\u001B[39m\u001B[38;5;124m'\u001B[39m)\u001B[38;5;241m.\u001B[39mwrite(\u001B[38;5;124mf\u001B[39m\u001B[38;5;124m'\u001B[39m\u001B[38;5;124mMean Square Error: \u001B[39m\u001B[38;5;132;01m{\u001B[39;00mmse\u001B[38;5;132;01m}\u001B[39;00m\u001B[38;5;130;01m\\n\u001B[39;00m\u001B[38;5;124mR2 Score: \u001B[39m\u001B[38;5;132;01m{\u001B[39;00mr2\u001B[38;5;132;01m}\u001B[39;00m\u001B[38;5;130;01m\\n\u001B[39;00m\u001B[38;5;124mBest Params: \u001B[39m\u001B[38;5;132;01m{\u001B[39;00mgrid_search\u001B[38;5;241m.\u001B[39mbest_params_\u001B[38;5;132;01m}\u001B[39;00m\u001B[38;5;124m'\u001B[39m)\n\u001B[0;32m      7\u001B[0m writer\u001B[38;5;241m.\u001B[39mclose()\n",
      "File \u001B[1;32mC:\\Workspace\\test\\venv\\Lib\\site-packages\\torch\\utils\\tensorboard\\writer.py:336\u001B[0m, in \u001B[0;36mSummaryWriter.add_hparams\u001B[1;34m(self, hparam_dict, metric_dict, hparam_domain_discrete, run_name)\u001B[0m\n\u001B[0;32m    334\u001B[0m \u001B[38;5;28;01mif\u001B[39;00m \u001B[38;5;28mtype\u001B[39m(hparam_dict) \u001B[38;5;129;01mis\u001B[39;00m \u001B[38;5;129;01mnot\u001B[39;00m \u001B[38;5;28mdict\u001B[39m \u001B[38;5;129;01mor\u001B[39;00m \u001B[38;5;28mtype\u001B[39m(metric_dict) \u001B[38;5;129;01mis\u001B[39;00m \u001B[38;5;129;01mnot\u001B[39;00m \u001B[38;5;28mdict\u001B[39m:\n\u001B[0;32m    335\u001B[0m     \u001B[38;5;28;01mraise\u001B[39;00m \u001B[38;5;167;01mTypeError\u001B[39;00m(\u001B[38;5;124m\"\u001B[39m\u001B[38;5;124mhparam_dict and metric_dict should be dictionary.\u001B[39m\u001B[38;5;124m\"\u001B[39m)\n\u001B[1;32m--> 336\u001B[0m exp, ssi, sei \u001B[38;5;241m=\u001B[39m \u001B[43mhparams\u001B[49m\u001B[43m(\u001B[49m\u001B[43mhparam_dict\u001B[49m\u001B[43m,\u001B[49m\u001B[43m \u001B[49m\u001B[43mmetric_dict\u001B[49m\u001B[43m,\u001B[49m\u001B[43m \u001B[49m\u001B[43mhparam_domain_discrete\u001B[49m\u001B[43m)\u001B[49m\n\u001B[0;32m    338\u001B[0m \u001B[38;5;28;01mif\u001B[39;00m \u001B[38;5;129;01mnot\u001B[39;00m run_name:\n\u001B[0;32m    339\u001B[0m     run_name \u001B[38;5;241m=\u001B[39m \u001B[38;5;28mstr\u001B[39m(time\u001B[38;5;241m.\u001B[39mtime())\n",
      "File \u001B[1;32mC:\\Workspace\\test\\venv\\Lib\\site-packages\\torch\\utils\\tensorboard\\summary.py:228\u001B[0m, in \u001B[0;36mhparams\u001B[1;34m(hparam_dict, metric_dict, hparam_domain_discrete)\u001B[0m\n\u001B[0;32m    226\u001B[0m         hps\u001B[38;5;241m.\u001B[39mappend(HParamInfo(name\u001B[38;5;241m=\u001B[39mk, \u001B[38;5;28mtype\u001B[39m\u001B[38;5;241m=\u001B[39mDataType\u001B[38;5;241m.\u001B[39mValue(\u001B[38;5;124m\"\u001B[39m\u001B[38;5;124mDATA_TYPE_FLOAT64\u001B[39m\u001B[38;5;124m\"\u001B[39m)))\n\u001B[0;32m    227\u001B[0m         \u001B[38;5;28;01mcontinue\u001B[39;00m\n\u001B[1;32m--> 228\u001B[0m     \u001B[38;5;28;01mraise\u001B[39;00m \u001B[38;5;167;01mValueError\u001B[39;00m(\n\u001B[0;32m    229\u001B[0m         \u001B[38;5;124m\"\u001B[39m\u001B[38;5;124mvalue should be one of int, float, str, bool, or torch.Tensor\u001B[39m\u001B[38;5;124m\"\u001B[39m\n\u001B[0;32m    230\u001B[0m     )\n\u001B[0;32m    232\u001B[0m content \u001B[38;5;241m=\u001B[39m HParamsPluginData(session_start_info\u001B[38;5;241m=\u001B[39mssi, version\u001B[38;5;241m=\u001B[39mPLUGIN_DATA_VERSION)\n\u001B[0;32m    233\u001B[0m smd \u001B[38;5;241m=\u001B[39m SummaryMetadata(\n\u001B[0;32m    234\u001B[0m     plugin_data\u001B[38;5;241m=\u001B[39mSummaryMetadata\u001B[38;5;241m.\u001B[39mPluginData(\n\u001B[0;32m    235\u001B[0m         plugin_name\u001B[38;5;241m=\u001B[39mPLUGIN_NAME, content\u001B[38;5;241m=\u001B[39mcontent\u001B[38;5;241m.\u001B[39mSerializeToString()\n\u001B[0;32m    236\u001B[0m     )\n\u001B[0;32m    237\u001B[0m )\n",
      "\u001B[1;31mValueError\u001B[0m: value should be one of int, float, str, bool, or torch.Tensor"
     ]
    }
   ],
   "source": [
    "writer = SummaryWriter(path + 'knn_regression')\n",
    "\n",
    "writer.add_hparams(grid_search.best_params_, {'mse': mse})\n",
    "\n",
    "open(results_path + 'knn_regression.txt', 'w').write(\n",
    "    f'Mean Square Error: {mse}\\nR2 Score: {r2}\\nBest Params: {grid_search.best_params_}')\n"
   ],
   "metadata": {
    "collapsed": false,
    "ExecuteTime": {
     "end_time": "2023-09-13T23:39:32.777283500Z",
     "start_time": "2023-09-13T23:39:32.735747500Z"
    }
   }
  },
  {
   "cell_type": "code",
   "execution_count": null,
   "outputs": [],
   "source": [
    "writer.close()"
   ],
   "metadata": {
    "collapsed": false
   }
  }
 ],
 "metadata": {
  "kernelspec": {
   "display_name": "Python 3 (ipykernel)",
   "language": "python",
   "name": "python3"
  },
  "language_info": {
   "codemirror_mode": {
    "name": "ipython",
    "version": 3
   },
   "file_extension": ".py",
   "mimetype": "text/x-python",
   "name": "python",
   "nbconvert_exporter": "python",
   "pygments_lexer": "ipython3",
   "version": "3.11.2"
  }
 },
 "nbformat": 4,
 "nbformat_minor": 1
}
